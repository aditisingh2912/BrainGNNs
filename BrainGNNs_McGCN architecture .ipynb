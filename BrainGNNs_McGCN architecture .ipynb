{
  "cells": [
    {
      "cell_type": "code",
      "execution_count": 1,
      "metadata": {
        "colab": {
          "base_uri": "https://localhost:8080/"
        },
        "id": "SMdTPCZXJhzl",
        "outputId": "3b3e2ad5-6651-4d6f-d2fa-f5b298d35be6"
      },
      "outputs": [
        {
          "output_type": "stream",
          "name": "stdout",
          "text": [
            "Collecting nilearn\n",
            "  Downloading nilearn-0.10.3-py3-none-any.whl (10.4 MB)\n",
            "\u001b[2K     \u001b[90m━━━━━━━━━━━━━━━━━━━━━━━━━━━━━━━━━━━━━━━━\u001b[0m \u001b[32m10.4/10.4 MB\u001b[0m \u001b[31m25.8 MB/s\u001b[0m eta \u001b[36m0:00:00\u001b[0m\n",
            "\u001b[?25hRequirement already satisfied: joblib>=1.0.0 in /usr/local/lib/python3.10/dist-packages (from nilearn) (1.3.2)\n",
            "Requirement already satisfied: lxml in /usr/local/lib/python3.10/dist-packages (from nilearn) (4.9.4)\n",
            "Requirement already satisfied: nibabel>=4.0.0 in /usr/local/lib/python3.10/dist-packages (from nilearn) (4.0.2)\n",
            "Requirement already satisfied: numpy>=1.19.0 in /usr/local/lib/python3.10/dist-packages (from nilearn) (1.25.2)\n",
            "Requirement already satisfied: packaging in /usr/local/lib/python3.10/dist-packages (from nilearn) (24.0)\n",
            "Requirement already satisfied: pandas>=1.1.5 in /usr/local/lib/python3.10/dist-packages (from nilearn) (1.5.3)\n",
            "Requirement already satisfied: requests>=2.25.0 in /usr/local/lib/python3.10/dist-packages (from nilearn) (2.31.0)\n",
            "Requirement already satisfied: scikit-learn>=1.0.0 in /usr/local/lib/python3.10/dist-packages (from nilearn) (1.2.2)\n",
            "Requirement already satisfied: scipy>=1.8.0 in /usr/local/lib/python3.10/dist-packages (from nilearn) (1.11.4)\n",
            "Requirement already satisfied: setuptools in /usr/local/lib/python3.10/dist-packages (from nibabel>=4.0.0->nilearn) (67.7.2)\n",
            "Requirement already satisfied: python-dateutil>=2.8.1 in /usr/local/lib/python3.10/dist-packages (from pandas>=1.1.5->nilearn) (2.8.2)\n",
            "Requirement already satisfied: pytz>=2020.1 in /usr/local/lib/python3.10/dist-packages (from pandas>=1.1.5->nilearn) (2023.4)\n",
            "Requirement already satisfied: charset-normalizer<4,>=2 in /usr/local/lib/python3.10/dist-packages (from requests>=2.25.0->nilearn) (3.3.2)\n",
            "Requirement already satisfied: idna<4,>=2.5 in /usr/local/lib/python3.10/dist-packages (from requests>=2.25.0->nilearn) (3.6)\n",
            "Requirement already satisfied: urllib3<3,>=1.21.1 in /usr/local/lib/python3.10/dist-packages (from requests>=2.25.0->nilearn) (2.0.7)\n",
            "Requirement already satisfied: certifi>=2017.4.17 in /usr/local/lib/python3.10/dist-packages (from requests>=2.25.0->nilearn) (2024.2.2)\n",
            "Requirement already satisfied: threadpoolctl>=2.0.0 in /usr/local/lib/python3.10/dist-packages (from scikit-learn>=1.0.0->nilearn) (3.3.0)\n",
            "Requirement already satisfied: six>=1.5 in /usr/local/lib/python3.10/dist-packages (from python-dateutil>=2.8.1->pandas>=1.1.5->nilearn) (1.16.0)\n",
            "Installing collected packages: nilearn\n",
            "Successfully installed nilearn-0.10.3\n",
            "/bin/bash: -c: line 1: unexpected EOF while looking for matching `''\n",
            "/bin/bash: -c: line 2: syntax error: unexpected end of file\n"
          ]
        }
      ],
      "source": [
        "!pip install nilearn\n",
        "!pip install torch-scatter torch-sparse torch-cluster torch-spline-conv'"
      ]
    },
    {
      "cell_type": "code",
      "execution_count": 2,
      "metadata": {
        "colab": {
          "base_uri": "https://localhost:8080/"
        },
        "id": "ZB5rTTQomPvd",
        "outputId": "d023659e-93d0-4968-9b5a-1e6358506c0f"
      },
      "outputs": [
        {
          "output_type": "stream",
          "name": "stdout",
          "text": [
            "Looking in links: https://data.pyg.org/whl/torch-1.10.0+cu113.html\n",
            "Collecting torch-geometric\n",
            "  Downloading torch_geometric-2.5.2-py3-none-any.whl (1.1 MB)\n",
            "\u001b[2K     \u001b[90m━━━━━━━━━━━━━━━━━━━━━━━━━━━━━━━━━━━━━━━━\u001b[0m \u001b[32m1.1/1.1 MB\u001b[0m \u001b[31m8.2 MB/s\u001b[0m eta \u001b[36m0:00:00\u001b[0m\n",
            "\u001b[?25hRequirement already satisfied: tqdm in /usr/local/lib/python3.10/dist-packages (from torch-geometric) (4.66.2)\n",
            "Requirement already satisfied: numpy in /usr/local/lib/python3.10/dist-packages (from torch-geometric) (1.25.2)\n",
            "Requirement already satisfied: scipy in /usr/local/lib/python3.10/dist-packages (from torch-geometric) (1.11.4)\n",
            "Requirement already satisfied: fsspec in /usr/local/lib/python3.10/dist-packages (from torch-geometric) (2023.6.0)\n",
            "Requirement already satisfied: jinja2 in /usr/local/lib/python3.10/dist-packages (from torch-geometric) (3.1.3)\n",
            "Requirement already satisfied: aiohttp in /usr/local/lib/python3.10/dist-packages (from torch-geometric) (3.9.3)\n",
            "Requirement already satisfied: requests in /usr/local/lib/python3.10/dist-packages (from torch-geometric) (2.31.0)\n",
            "Requirement already satisfied: pyparsing in /usr/local/lib/python3.10/dist-packages (from torch-geometric) (3.1.2)\n",
            "Requirement already satisfied: scikit-learn in /usr/local/lib/python3.10/dist-packages (from torch-geometric) (1.2.2)\n",
            "Requirement already satisfied: psutil>=5.8.0 in /usr/local/lib/python3.10/dist-packages (from torch-geometric) (5.9.5)\n",
            "Requirement already satisfied: aiosignal>=1.1.2 in /usr/local/lib/python3.10/dist-packages (from aiohttp->torch-geometric) (1.3.1)\n",
            "Requirement already satisfied: attrs>=17.3.0 in /usr/local/lib/python3.10/dist-packages (from aiohttp->torch-geometric) (23.2.0)\n",
            "Requirement already satisfied: frozenlist>=1.1.1 in /usr/local/lib/python3.10/dist-packages (from aiohttp->torch-geometric) (1.4.1)\n",
            "Requirement already satisfied: multidict<7.0,>=4.5 in /usr/local/lib/python3.10/dist-packages (from aiohttp->torch-geometric) (6.0.5)\n",
            "Requirement already satisfied: yarl<2.0,>=1.0 in /usr/local/lib/python3.10/dist-packages (from aiohttp->torch-geometric) (1.9.4)\n",
            "Requirement already satisfied: async-timeout<5.0,>=4.0 in /usr/local/lib/python3.10/dist-packages (from aiohttp->torch-geometric) (4.0.3)\n",
            "Requirement already satisfied: MarkupSafe>=2.0 in /usr/local/lib/python3.10/dist-packages (from jinja2->torch-geometric) (2.1.5)\n",
            "Requirement already satisfied: charset-normalizer<4,>=2 in /usr/local/lib/python3.10/dist-packages (from requests->torch-geometric) (3.3.2)\n",
            "Requirement already satisfied: idna<4,>=2.5 in /usr/local/lib/python3.10/dist-packages (from requests->torch-geometric) (3.6)\n",
            "Requirement already satisfied: urllib3<3,>=1.21.1 in /usr/local/lib/python3.10/dist-packages (from requests->torch-geometric) (2.0.7)\n",
            "Requirement already satisfied: certifi>=2017.4.17 in /usr/local/lib/python3.10/dist-packages (from requests->torch-geometric) (2024.2.2)\n",
            "Requirement already satisfied: joblib>=1.1.1 in /usr/local/lib/python3.10/dist-packages (from scikit-learn->torch-geometric) (1.3.2)\n",
            "Requirement already satisfied: threadpoolctl>=2.0.0 in /usr/local/lib/python3.10/dist-packages (from scikit-learn->torch-geometric) (3.3.0)\n",
            "Installing collected packages: torch-geometric\n",
            "Successfully installed torch-geometric-2.5.2\n"
          ]
        }
      ],
      "source": [
        "!pip install torch-geometric -f https://data.pyg.org/whl/torch-1.10.0+cu113.html"
      ]
    },
    {
      "cell_type": "code",
      "execution_count": 30,
      "metadata": {
        "id": "MeS1tDpTJzNK"
      },
      "outputs": [],
      "source": [
        "import os\n",
        "import torch\n",
        "from torch import nn\n",
        "import numpy as np\n",
        "import matplotlib.pyplot as plt\n",
        "from tqdm import tqdm\n",
        "import seaborn as sns\n",
        "\n",
        "from nilearn import datasets\n",
        "from nilearn import plotting\n",
        "from nilearn.input_data import NiftiMapsMasker\n",
        "from nilearn.connectome import ConnectivityMeasure\n",
        "\n",
        "import torch.nn.functional as F\n",
        "from torch.nn import Sequential, Linear, ReLU, GRU, BatchNorm1d\n",
        "from torch_geometric.nn import EdgeConv, GCNConv, GraphConv\n",
        "from torch_geometric.nn import global_mean_pool\n",
        "from torch_geometric.data import InMemoryDataset, Data, DataLoader\n",
        "from torch_geometric.utils import from_networkx\n",
        "\n"
      ]
    },
    {
      "cell_type": "code",
      "execution_count": 4,
      "metadata": {
        "id": "LTxwSvsEmsMP"
      },
      "outputs": [],
      "source": [
        "import networkx as nx\n",
        "from networkx.convert_matrix import from_numpy_array"
      ]
    },
    {
      "cell_type": "markdown",
      "metadata": {
        "id": "90JVaYNiJz3X"
      },
      "source": [
        "# **Data preparation**\n",
        "\n",
        "Set up for our learning task by getting the data we need from the raw fMRI time courses.\n",
        "\n",
        "[Nilearn](https://nilearn.github.io/stable/index.html) is a great piece of open source software that has the utility functions needed to do this!\n",
        "\n",
        "![](https://i.imgur.com/vyyZA9t.png)"
      ]
    },
    {
      "cell_type": "markdown",
      "metadata": {
        "id": "J_V0tRU2_zgb"
      },
      "source": [
        "Create the directories that our dataset will be saved in."
      ]
    },
    {
      "cell_type": "code",
      "execution_count": 5,
      "metadata": {
        "id": "JCerueTd7NJn"
      },
      "outputs": [],
      "source": [
        "dataset_path = 'dataset'\n",
        "corr_matrices_dir = f'{dataset_path}/corr_matrices'\n",
        "pcorr_matrices_dir = f'{dataset_path}/pcorr_matrices'\n",
        "avg_pcorr_file = f'{dataset_path}/avg_pcorr.csv'\n",
        "time_series_dir = f'{dataset_path}/time_series'\n",
        "labels_file = f'{dataset_path}/labels.csv'\n",
        "\n",
        "os.makedirs(corr_matrices_dir)\n",
        "os.makedirs(pcorr_matrices_dir)\n",
        "os.makedirs(time_series_dir)"
      ]
    },
    {
      "cell_type": "markdown",
      "metadata": {
        "id": "kc54WIxOAHyh"
      },
      "source": [
        "Fetch an atlas that parcellates the brain into regions of interest (ROIs), and fetch the raw fMRI data from OpenNeuro.\n",
        "\n",
        "[Link](https://openneuro.org/datasets/ds000228/versions/1.1.0) to dataset."
      ]
    },
    {
      "cell_type": "code",
      "execution_count": 6,
      "metadata": {
        "id": "pLNs5akRJ_Xm",
        "colab": {
          "base_uri": "https://localhost:8080/"
        },
        "outputId": "5ab0ef4a-6a34-4b31-e1de-919d46dec3aa"
      },
      "outputs": [
        {
          "metadata": {
            "tags": null
          },
          "name": "stdout",
          "output_type": "stream",
          "text": [
            "\n",
            "Added README.md to /root/nilearn_data\n",
            "\n",
            "\n",
            "Dataset created in /root/nilearn_data/msdl_atlas\n",
            "\n",
            "Downloading data from https://team.inria.fr/parietal/files/2015/01/MSDL_rois.zip ...\n"
          ]
        },
        {
          "metadata": {
            "tags": null
          },
          "name": "stderr",
          "output_type": "stream",
          "text": [
            " ...done. (1 seconds, 0 min)\n",
            "Extracting data from /root/nilearn_data/msdl_atlas/8eaecb9e05c478f565847000d9902a25/MSDL_rois.zip..... done.\n"
          ]
        },
        {
          "metadata": {
            "tags": null
          },
          "name": "stdout",
          "output_type": "stream",
          "text": [
            "\n",
            "Dataset created in /root/nilearn_data/development_fmri\n",
            "\n",
            "\n",
            "Added README.md to /root/nilearn_data/development_fmri\n",
            "\n",
            "\n",
            "Dataset created in /root/nilearn_data/development_fmri/development_fmri\n",
            "\n",
            "Downloading data from https://osf.io/yr3av/download ...\n"
          ]
        },
        {
          "metadata": {
            "tags": null
          },
          "name": "stderr",
          "output_type": "stream",
          "text": [
            " ...done. (3 seconds, 0 min)\n"
          ]
        },
        {
          "metadata": {
            "tags": null
          },
          "name": "stdout",
          "output_type": "stream",
          "text": [
            "Downloading data from https://osf.io/download/5c8ff3df4712b400183b7092/ ...\n"
          ]
        },
        {
          "metadata": {
            "tags": null
          },
          "name": "stderr",
          "output_type": "stream",
          "text": [
            " ...done. (4 seconds, 0 min)\n"
          ]
        },
        {
          "metadata": {
            "tags": null
          },
          "name": "stdout",
          "output_type": "stream",
          "text": [
            "Downloading data from https://osf.io/download/5c8ff3e04712b400193b5bdf/ ...\n"
          ]
        },
        {
          "metadata": {
            "tags": null
          },
          "name": "stderr",
          "output_type": "stream",
          "text": [
            " ...done. (4 seconds, 0 min)\n"
          ]
        },
        {
          "metadata": {
            "tags": null
          },
          "name": "stdout",
          "output_type": "stream",
          "text": [
            "Downloading data from https://osf.io/download/5c8ff3e14712b400183b7097/ ...\n"
          ]
        },
        {
          "metadata": {
            "tags": null
          },
          "name": "stderr",
          "output_type": "stream",
          "text": [
            " ...done. (3 seconds, 0 min)\n"
          ]
        },
        {
          "metadata": {
            "tags": null
          },
          "name": "stdout",
          "output_type": "stream",
          "text": [
            "Downloading data from https://osf.io/download/5c8ff3e32286e80018c3e42c/ ...\n"
          ]
        },
        {
          "metadata": {
            "tags": null
          },
          "name": "stderr",
          "output_type": "stream",
          "text": [
            " ...done. (3 seconds, 0 min)\n"
          ]
        },
        {
          "metadata": {
            "tags": null
          },
          "name": "stdout",
          "output_type": "stream",
          "text": [
            "Downloading data from https://osf.io/download/5c8ff3e4a743a9001760814f/ ...\n"
          ]
        },
        {
          "metadata": {
            "tags": null
          },
          "name": "stderr",
          "output_type": "stream",
          "text": [
            " ...done. (5 seconds, 0 min)\n"
          ]
        },
        {
          "metadata": {
            "tags": null
          },
          "name": "stdout",
          "output_type": "stream",
          "text": [
            "Downloading data from https://osf.io/download/5c8ff3e54712b400183b70a5/ ...\n"
          ]
        },
        {
          "metadata": {
            "tags": null
          },
          "name": "stderr",
          "output_type": "stream",
          "text": [
            " ...done. (3 seconds, 0 min)\n"
          ]
        },
        {
          "metadata": {
            "tags": null
          },
          "name": "stdout",
          "output_type": "stream",
          "text": [
            "Downloading data from https://osf.io/download/5c8ff3e52286e80018c3e439/ ...\n"
          ]
        },
        {
          "metadata": {
            "tags": null
          },
          "name": "stderr",
          "output_type": "stream",
          "text": [
            " ...done. (3 seconds, 0 min)\n"
          ]
        },
        {
          "metadata": {
            "tags": null
          },
          "name": "stdout",
          "output_type": "stream",
          "text": [
            "Downloading data from https://osf.io/download/5c8ff3e72286e80017c41b3d/ ...\n"
          ]
        },
        {
          "metadata": {
            "tags": null
          },
          "name": "stderr",
          "output_type": "stream",
          "text": [
            " ...done. (4 seconds, 0 min)\n"
          ]
        },
        {
          "metadata": {
            "tags": null
          },
          "name": "stdout",
          "output_type": "stream",
          "text": [
            "Downloading data from https://osf.io/download/5c8ff3e9a743a90017608158/ ...\n"
          ]
        },
        {
          "metadata": {
            "tags": null
          },
          "name": "stderr",
          "output_type": "stream",
          "text": [
            " ...done. (3 seconds, 0 min)\n"
          ]
        },
        {
          "metadata": {
            "tags": null
          },
          "name": "stdout",
          "output_type": "stream",
          "text": [
            "Downloading data from https://osf.io/download/5c8ff3e82286e80018c3e443/ ...\n"
          ]
        },
        {
          "metadata": {
            "tags": null
          },
          "name": "stderr",
          "output_type": "stream",
          "text": [
            " ...done. (3 seconds, 0 min)\n"
          ]
        },
        {
          "metadata": {
            "tags": null
          },
          "name": "stdout",
          "output_type": "stream",
          "text": [
            "Downloading data from https://osf.io/download/5c8ff3ea4712b400183b70b7/ ...\n"
          ]
        },
        {
          "metadata": {
            "tags": null
          },
          "name": "stderr",
          "output_type": "stream",
          "text": [
            " ...done. (2 seconds, 0 min)\n"
          ]
        },
        {
          "metadata": {
            "tags": null
          },
          "name": "stdout",
          "output_type": "stream",
          "text": [
            "Downloading data from https://osf.io/download/5c8ff3eb2286e80019c3c194/ ...\n"
          ]
        },
        {
          "metadata": {
            "tags": null
          },
          "name": "stderr",
          "output_type": "stream",
          "text": [
            " ...done. (4 seconds, 0 min)\n"
          ]
        },
        {
          "metadata": {
            "tags": null
          },
          "name": "stdout",
          "output_type": "stream",
          "text": [
            "Downloading data from https://osf.io/download/5c8ff3eb2286e80019c3c198/ ...\n"
          ]
        },
        {
          "metadata": {
            "tags": null
          },
          "name": "stderr",
          "output_type": "stream",
          "text": [
            " ...done. (3 seconds, 0 min)\n"
          ]
        },
        {
          "metadata": {
            "tags": null
          },
          "name": "stdout",
          "output_type": "stream",
          "text": [
            "Downloading data from https://osf.io/download/5c8ff3ed2286e80017c41b56/ ...\n"
          ]
        },
        {
          "metadata": {
            "tags": null
          },
          "name": "stderr",
          "output_type": "stream",
          "text": [
            " ...done. (3 seconds, 0 min)\n"
          ]
        },
        {
          "metadata": {
            "tags": null
          },
          "name": "stdout",
          "output_type": "stream",
          "text": [
            "Downloading data from https://osf.io/download/5c8ff3ee2286e80016c3c379/ ...\n"
          ]
        },
        {
          "metadata": {
            "tags": null
          },
          "name": "stderr",
          "output_type": "stream",
          "text": [
            " ...done. (3 seconds, 0 min)\n"
          ]
        },
        {
          "metadata": {
            "tags": null
          },
          "name": "stdout",
          "output_type": "stream",
          "text": [
            "Downloading data from https://osf.io/download/5c8ff3ee4712b400183b70c3/ ...\n"
          ]
        },
        {
          "metadata": {
            "tags": null
          },
          "name": "stderr",
          "output_type": "stream",
          "text": [
            " ...done. (3 seconds, 0 min)\n"
          ]
        },
        {
          "metadata": {
            "tags": null
          },
          "name": "stdout",
          "output_type": "stream",
          "text": [
            "Downloading data from https://osf.io/download/5c8ff3efa743a9001660a0d5/ ...\n"
          ]
        },
        {
          "metadata": {
            "tags": null
          },
          "name": "stderr",
          "output_type": "stream",
          "text": [
            " ...done. (3 seconds, 0 min)\n"
          ]
        },
        {
          "metadata": {
            "tags": null
          },
          "name": "stdout",
          "output_type": "stream",
          "text": [
            "Downloading data from https://osf.io/download/5c8ff3f14712b4001a3b560e/ ...\n"
          ]
        },
        {
          "metadata": {
            "tags": null
          },
          "name": "stderr",
          "output_type": "stream",
          "text": [
            " ...done. (3 seconds, 0 min)\n"
          ]
        },
        {
          "metadata": {
            "tags": null
          },
          "name": "stdout",
          "output_type": "stream",
          "text": [
            "Downloading data from https://osf.io/download/5c8ff3f1a743a90017608164/ ...\n"
          ]
        },
        {
          "metadata": {
            "tags": null
          },
          "name": "stderr",
          "output_type": "stream",
          "text": [
            " ...done. (3 seconds, 0 min)\n"
          ]
        },
        {
          "metadata": {
            "tags": null
          },
          "name": "stdout",
          "output_type": "stream",
          "text": [
            "Downloading data from https://osf.io/download/5c8ff3f12286e80016c3c37e/ ...\n"
          ]
        },
        {
          "metadata": {
            "tags": null
          },
          "name": "stderr",
          "output_type": "stream",
          "text": [
            " ...done. (3 seconds, 0 min)\n"
          ]
        },
        {
          "metadata": {
            "tags": null
          },
          "name": "stdout",
          "output_type": "stream",
          "text": [
            "Downloading data from https://osf.io/download/5c8ff3f34712b4001a3b5612/ ...\n"
          ]
        },
        {
          "metadata": {
            "tags": null
          },
          "name": "stderr",
          "output_type": "stream",
          "text": [
            " ...done. (2 seconds, 0 min)\n"
          ]
        },
        {
          "metadata": {
            "tags": null
          },
          "name": "stdout",
          "output_type": "stream",
          "text": [
            "Downloading data from https://osf.io/download/5c8ff3f7a743a90019606cdf/ ...\n"
          ]
        },
        {
          "metadata": {
            "tags": null
          },
          "name": "stderr",
          "output_type": "stream",
          "text": [
            " ...done. (4 seconds, 0 min)\n"
          ]
        },
        {
          "metadata": {
            "tags": null
          },
          "name": "stdout",
          "output_type": "stream",
          "text": [
            "Downloading data from https://osf.io/download/5c8ff3f6a743a90017608171/ ...\n"
          ]
        },
        {
          "metadata": {
            "tags": null
          },
          "name": "stderr",
          "output_type": "stream",
          "text": [
            " ...done. (2 seconds, 0 min)\n"
          ]
        },
        {
          "metadata": {
            "tags": null
          },
          "name": "stdout",
          "output_type": "stream",
          "text": [
            "Downloading data from https://osf.io/download/5c8ff3f64712b400183b70d8/ ...\n"
          ]
        },
        {
          "metadata": {
            "tags": null
          },
          "name": "stderr",
          "output_type": "stream",
          "text": [
            " ...done. (3 seconds, 0 min)\n"
          ]
        },
        {
          "metadata": {
            "tags": null
          },
          "name": "stdout",
          "output_type": "stream",
          "text": [
            "Downloading data from https://osf.io/download/5c8ff3f72286e80019c3c1af/ ...\n"
          ]
        },
        {
          "metadata": {
            "tags": null
          },
          "name": "stderr",
          "output_type": "stream",
          "text": [
            " ...done. (3 seconds, 0 min)\n"
          ]
        },
        {
          "metadata": {
            "tags": null
          },
          "name": "stdout",
          "output_type": "stream",
          "text": [
            "Downloading data from https://osf.io/download/5c8ff3f92286e80018c3e463/ ...\n"
          ]
        },
        {
          "metadata": {
            "tags": null
          },
          "name": "stderr",
          "output_type": "stream",
          "text": [
            " ...done. (4 seconds, 0 min)\n"
          ]
        },
        {
          "metadata": {
            "tags": null
          },
          "name": "stdout",
          "output_type": "stream",
          "text": [
            "Downloading data from https://osf.io/download/5c8ff4534712b400183b716d/ ...\n"
          ]
        },
        {
          "metadata": {
            "tags": null
          },
          "name": "stderr",
          "output_type": "stream",
          "text": [
            " ...done. (2 seconds, 0 min)\n"
          ]
        },
        {
          "metadata": {
            "tags": null
          },
          "name": "stdout",
          "output_type": "stream",
          "text": [
            "Downloading data from https://osf.io/download/5c8ff3fb2286e80017c41b72/ ...\n"
          ]
        },
        {
          "metadata": {
            "tags": null
          },
          "name": "stderr",
          "output_type": "stream",
          "text": [
            " ...done. (4 seconds, 0 min)\n"
          ]
        },
        {
          "metadata": {
            "tags": null
          },
          "name": "stdout",
          "output_type": "stream",
          "text": [
            "Downloading data from https://osf.io/download/5c8ff3fb2286e80019c3c1b3/ ...\n"
          ]
        },
        {
          "metadata": {
            "tags": null
          },
          "name": "stderr",
          "output_type": "stream",
          "text": [
            " ...done. (3 seconds, 0 min)\n"
          ]
        },
        {
          "metadata": {
            "tags": null
          },
          "name": "stdout",
          "output_type": "stream",
          "text": [
            "Downloading data from https://osf.io/download/5c8ff3fd4712b400183b70e6/ ...\n"
          ]
        },
        {
          "metadata": {
            "tags": null
          },
          "name": "stderr",
          "output_type": "stream",
          "text": [
            " ...done. (2 seconds, 0 min)\n"
          ]
        },
        {
          "metadata": {
            "tags": null
          },
          "name": "stdout",
          "output_type": "stream",
          "text": [
            "Downloading data from https://osf.io/download/5c8ff3fe4712b4001a3b5620/ ...\n"
          ]
        },
        {
          "metadata": {
            "tags": null
          },
          "name": "stderr",
          "output_type": "stream",
          "text": [
            " ...done. (3 seconds, 0 min)\n"
          ]
        },
        {
          "metadata": {
            "tags": null
          },
          "name": "stdout",
          "output_type": "stream",
          "text": [
            "Downloading data from https://osf.io/download/5c8ff3ff4712b400173b5399/ ...\n"
          ]
        },
        {
          "metadata": {
            "tags": null
          },
          "name": "stderr",
          "output_type": "stream",
          "text": [
            " ...done. (4 seconds, 0 min)\n"
          ]
        },
        {
          "metadata": {
            "tags": null
          },
          "name": "stdout",
          "output_type": "stream",
          "text": [
            "Downloading data from https://osf.io/download/5c8ff401a743a9001660a104/ ...\n"
          ]
        },
        {
          "metadata": {
            "tags": null
          },
          "name": "stderr",
          "output_type": "stream",
          "text": [
            " ...done. (3 seconds, 0 min)\n"
          ]
        },
        {
          "metadata": {
            "tags": null
          },
          "name": "stdout",
          "output_type": "stream",
          "text": [
            "Downloading data from https://osf.io/download/5c8ff403a743a90017608181/ ...\n"
          ]
        },
        {
          "metadata": {
            "tags": null
          },
          "name": "stderr",
          "output_type": "stream",
          "text": [
            " ...done. (2 seconds, 0 min)\n"
          ]
        },
        {
          "metadata": {
            "tags": null
          },
          "name": "stdout",
          "output_type": "stream",
          "text": [
            "Downloading data from https://osf.io/download/5c8ff4034712b400183b70f6/ ...\n"
          ]
        },
        {
          "metadata": {
            "tags": null
          },
          "name": "stderr",
          "output_type": "stream",
          "text": [
            " ...done. (3 seconds, 0 min)\n"
          ]
        },
        {
          "metadata": {
            "tags": null
          },
          "name": "stdout",
          "output_type": "stream",
          "text": [
            "Downloading data from https://osf.io/download/5c8ff4042286e80019c3c1c2/ ...\n"
          ]
        },
        {
          "metadata": {
            "tags": null
          },
          "name": "stderr",
          "output_type": "stream",
          "text": [
            " ...done. (3 seconds, 0 min)\n"
          ]
        },
        {
          "metadata": {
            "tags": null
          },
          "name": "stdout",
          "output_type": "stream",
          "text": [
            "Downloading data from https://osf.io/download/5c8ff4052286e80017c41b92/ ...\n"
          ]
        },
        {
          "metadata": {
            "tags": null
          },
          "name": "stderr",
          "output_type": "stream",
          "text": [
            " ...done. (3 seconds, 0 min)\n"
          ]
        },
        {
          "metadata": {
            "tags": null
          },
          "name": "stdout",
          "output_type": "stream",
          "text": [
            "Downloading data from https://osf.io/download/5c8ff4064712b400183b70fe/ ...\n"
          ]
        },
        {
          "metadata": {
            "tags": null
          },
          "name": "stderr",
          "output_type": "stream",
          "text": [
            " ...done. (4 seconds, 0 min)\n"
          ]
        },
        {
          "metadata": {
            "tags": null
          },
          "name": "stdout",
          "output_type": "stream",
          "text": [
            "Downloading data from https://osf.io/download/5c8ff4074712b400183b7104/ ...\n"
          ]
        },
        {
          "metadata": {
            "tags": null
          },
          "name": "stderr",
          "output_type": "stream",
          "text": [
            " ...done. (3 seconds, 0 min)\n"
          ]
        },
        {
          "metadata": {
            "tags": null
          },
          "name": "stdout",
          "output_type": "stream",
          "text": [
            "Downloading data from https://osf.io/download/5c8ff40aa743a9001660a119/ ...\n"
          ]
        },
        {
          "metadata": {
            "tags": null
          },
          "name": "stderr",
          "output_type": "stream",
          "text": [
            " ...done. (4 seconds, 0 min)\n"
          ]
        },
        {
          "metadata": {
            "tags": null
          },
          "name": "stdout",
          "output_type": "stream",
          "text": [
            "Downloading data from https://osf.io/download/5c8ff4092286e80017c41ba7/ ...\n"
          ]
        },
        {
          "metadata": {
            "tags": null
          },
          "name": "stderr",
          "output_type": "stream",
          "text": [
            " ...done. (4 seconds, 0 min)\n"
          ]
        },
        {
          "metadata": {
            "tags": null
          },
          "name": "stdout",
          "output_type": "stream",
          "text": [
            "Downloading data from https://osf.io/download/5c8ff40b2286e80016c3c39a/ ...\n"
          ]
        },
        {
          "metadata": {
            "tags": null
          },
          "name": "stderr",
          "output_type": "stream",
          "text": [
            " ...done. (4 seconds, 0 min)\n"
          ]
        },
        {
          "metadata": {
            "tags": null
          },
          "name": "stdout",
          "output_type": "stream",
          "text": [
            "Downloading data from https://osf.io/download/5c8ff40d2286e80016c3c39f/ ...\n"
          ]
        },
        {
          "metadata": {
            "tags": null
          },
          "name": "stderr",
          "output_type": "stream",
          "text": [
            " ...done. (3 seconds, 0 min)\n"
          ]
        },
        {
          "metadata": {
            "tags": null
          },
          "name": "stdout",
          "output_type": "stream",
          "text": [
            "Downloading data from https://osf.io/download/5c8ff40da743a90018606eac/ ...\n"
          ]
        },
        {
          "metadata": {
            "tags": null
          },
          "name": "stderr",
          "output_type": "stream",
          "text": [
            " ...done. (4 seconds, 0 min)\n"
          ]
        },
        {
          "metadata": {
            "tags": null
          },
          "name": "stdout",
          "output_type": "stream",
          "text": [
            "Downloading data from https://osf.io/download/5c8ff40e4712b400173b53a8/ ...\n"
          ]
        },
        {
          "metadata": {
            "tags": null
          },
          "name": "stderr",
          "output_type": "stream",
          "text": [
            " ...done. (4 seconds, 0 min)\n"
          ]
        },
        {
          "metadata": {
            "tags": null
          },
          "name": "stdout",
          "output_type": "stream",
          "text": [
            "Downloading data from https://osf.io/download/5c8ff4104712b400173b53ad/ ...\n"
          ]
        },
        {
          "metadata": {
            "tags": null
          },
          "name": "stderr",
          "output_type": "stream",
          "text": [
            " ...done. (1 seconds, 0 min)\n"
          ]
        },
        {
          "metadata": {
            "tags": null
          },
          "name": "stdout",
          "output_type": "stream",
          "text": [
            "Downloading data from https://osf.io/download/5c8ff4112286e80016c3c3a5/ ...\n"
          ]
        },
        {
          "metadata": {
            "tags": null
          },
          "name": "stderr",
          "output_type": "stream",
          "text": [
            " ...done. (3 seconds, 0 min)\n"
          ]
        },
        {
          "metadata": {
            "tags": null
          },
          "name": "stdout",
          "output_type": "stream",
          "text": [
            "Downloading data from https://osf.io/download/5c8ff412a743a9001660a128/ ...\n"
          ]
        },
        {
          "metadata": {
            "tags": null
          },
          "name": "stderr",
          "output_type": "stream",
          "text": [
            " ...done. (4 seconds, 0 min)\n"
          ]
        },
        {
          "metadata": {
            "tags": null
          },
          "name": "stdout",
          "output_type": "stream",
          "text": [
            "Downloading data from https://osf.io/download/5c8ff414a743a90019606cfc/ ...\n"
          ]
        },
        {
          "metadata": {
            "tags": null
          },
          "name": "stderr",
          "output_type": "stream",
          "text": [
            " ...done. (3 seconds, 0 min)\n"
          ]
        },
        {
          "metadata": {
            "tags": null
          },
          "name": "stdout",
          "output_type": "stream",
          "text": [
            "Downloading data from https://osf.io/download/5c8ff416a743a90019606d01/ ...\n"
          ]
        },
        {
          "metadata": {
            "tags": null
          },
          "name": "stderr",
          "output_type": "stream",
          "text": [
            " ...done. (4 seconds, 0 min)\n"
          ]
        },
        {
          "metadata": {
            "tags": null
          },
          "name": "stdout",
          "output_type": "stream",
          "text": [
            "Downloading data from https://osf.io/download/5c8ff417a743a9001660a130/ ...\n"
          ]
        },
        {
          "metadata": {
            "tags": null
          },
          "name": "stderr",
          "output_type": "stream",
          "text": [
            " ...done. (2 seconds, 0 min)\n"
          ]
        },
        {
          "metadata": {
            "tags": null
          },
          "name": "stdout",
          "output_type": "stream",
          "text": [
            "Downloading data from https://osf.io/download/5c8ff4184712b400193b5c19/ ...\n"
          ]
        },
        {
          "metadata": {
            "tags": null
          },
          "name": "stderr",
          "output_type": "stream",
          "text": [
            " ...done. (1 seconds, 0 min)\n"
          ]
        },
        {
          "metadata": {
            "tags": null
          },
          "name": "stdout",
          "output_type": "stream",
          "text": [
            "Downloading data from https://osf.io/download/5c8ff41a2286e80019c3c1de/ ...\n"
          ]
        },
        {
          "metadata": {
            "tags": null
          },
          "name": "stderr",
          "output_type": "stream",
          "text": [
            " ...done. (4 seconds, 0 min)\n"
          ]
        },
        {
          "metadata": {
            "tags": null
          },
          "name": "stdout",
          "output_type": "stream",
          "text": [
            "Downloading data from https://osf.io/download/5c8ff41aa743a9001660a13b/ ...\n"
          ]
        },
        {
          "metadata": {
            "tags": null
          },
          "name": "stderr",
          "output_type": "stream",
          "text": [
            " ...done. (2 seconds, 0 min)\n"
          ]
        },
        {
          "metadata": {
            "tags": null
          },
          "name": "stdout",
          "output_type": "stream",
          "text": [
            "Downloading data from https://osf.io/download/5c8ff41b2286e80016c3c3b6/ ...\n"
          ]
        },
        {
          "metadata": {
            "tags": null
          },
          "name": "stderr",
          "output_type": "stream",
          "text": [
            " ...done. (1 seconds, 0 min)\n"
          ]
        },
        {
          "metadata": {
            "tags": null
          },
          "name": "stdout",
          "output_type": "stream",
          "text": [
            "Downloading data from https://osf.io/download/5c8ff41d2286e80018c3e499/ ...\n"
          ]
        },
        {
          "metadata": {
            "tags": null
          },
          "name": "stderr",
          "output_type": "stream",
          "text": [
            " ...done. (3 seconds, 0 min)\n"
          ]
        },
        {
          "metadata": {
            "tags": null
          },
          "name": "stdout",
          "output_type": "stream",
          "text": [
            "Downloading data from https://osf.io/download/5c8ff41da743a900176081a2/ ...\n"
          ]
        },
        {
          "metadata": {
            "tags": null
          },
          "name": "stderr",
          "output_type": "stream",
          "text": [
            " ...done. (3 seconds, 0 min)\n"
          ]
        },
        {
          "metadata": {
            "tags": null
          },
          "name": "stdout",
          "output_type": "stream",
          "text": [
            "Downloading data from https://osf.io/download/5c8ff41ea743a90018606ec7/ ...\n"
          ]
        },
        {
          "metadata": {
            "tags": null
          },
          "name": "stderr",
          "output_type": "stream",
          "text": [
            " ...done. (4 seconds, 0 min)\n"
          ]
        },
        {
          "metadata": {
            "tags": null
          },
          "name": "stdout",
          "output_type": "stream",
          "text": [
            "Downloading data from https://osf.io/download/5c8ff4202286e80019c3c1e2/ ...\n"
          ]
        },
        {
          "metadata": {
            "tags": null
          },
          "name": "stderr",
          "output_type": "stream",
          "text": [
            " ...done. (1 seconds, 0 min)\n"
          ]
        },
        {
          "metadata": {
            "tags": null
          },
          "name": "stdout",
          "output_type": "stream",
          "text": [
            "Downloading data from https://osf.io/download/5c8ff4212286e80018c3e49d/ ...\n"
          ]
        },
        {
          "metadata": {
            "tags": null
          },
          "name": "stderr",
          "output_type": "stream",
          "text": [
            " ...done. (3 seconds, 0 min)\n"
          ]
        },
        {
          "metadata": {
            "tags": null
          },
          "name": "stdout",
          "output_type": "stream",
          "text": [
            "Downloading data from https://osf.io/download/5c8ff4212286e80019c3c1e6/ ...\n"
          ]
        },
        {
          "metadata": {
            "tags": null
          },
          "name": "stderr",
          "output_type": "stream",
          "text": [
            " ...done. (2 seconds, 0 min)\n"
          ]
        },
        {
          "metadata": {
            "tags": null
          },
          "name": "stdout",
          "output_type": "stream",
          "text": [
            "Downloading data from https://osf.io/download/5c8ff424a743a900176081af/ ...\n"
          ]
        },
        {
          "metadata": {
            "tags": null
          },
          "name": "stderr",
          "output_type": "stream",
          "text": [
            " ...done. (4 seconds, 0 min)\n"
          ]
        },
        {
          "metadata": {
            "tags": null
          },
          "name": "stdout",
          "output_type": "stream",
          "text": [
            "Downloading data from https://osf.io/download/5c8ff4264712b400193b5c2f/ ...\n"
          ]
        },
        {
          "metadata": {
            "tags": null
          },
          "name": "stderr",
          "output_type": "stream",
          "text": [
            " ...done. (3 seconds, 0 min)\n"
          ]
        },
        {
          "metadata": {
            "tags": null
          },
          "name": "stdout",
          "output_type": "stream",
          "text": [
            "Downloading data from https://osf.io/download/5c8ff4252286e80017c41bfc/ ...\n"
          ]
        },
        {
          "metadata": {
            "tags": null
          },
          "name": "stderr",
          "output_type": "stream",
          "text": [
            " ...done. (3 seconds, 0 min)\n"
          ]
        },
        {
          "metadata": {
            "tags": null
          },
          "name": "stdout",
          "output_type": "stream",
          "text": [
            "Downloading data from https://osf.io/download/5c8ff4282286e80017c41c0a/ ...\n"
          ]
        },
        {
          "metadata": {
            "tags": null
          },
          "name": "stderr",
          "output_type": "stream",
          "text": [
            " ...done. (4 seconds, 0 min)\n"
          ]
        },
        {
          "metadata": {
            "tags": null
          },
          "name": "stdout",
          "output_type": "stream",
          "text": [
            "Downloading data from https://osf.io/download/5c8ff4292286e80017c41c0f/ ...\n"
          ]
        },
        {
          "metadata": {
            "tags": null
          },
          "name": "stderr",
          "output_type": "stream",
          "text": [
            " ...done. (1 seconds, 0 min)\n"
          ]
        },
        {
          "metadata": {
            "tags": null
          },
          "name": "stdout",
          "output_type": "stream",
          "text": [
            "Downloading data from https://osf.io/download/5c8ff37da743a90018606df1/ ...\n"
          ]
        },
        {
          "metadata": {
            "tags": null
          },
          "name": "stderr",
          "output_type": "stream",
          "text": [
            " ...done. (3 seconds, 0 min)\n"
          ]
        },
        {
          "metadata": {
            "tags": null
          },
          "name": "stdout",
          "output_type": "stream",
          "text": [
            "Downloading data from https://osf.io/download/5c8ff37c2286e80019c3c102/ ...\n"
          ]
        },
        {
          "metadata": {
            "tags": null
          },
          "name": "stderr",
          "output_type": "stream",
          "text": [
            " ...done. (4 seconds, 0 min)\n"
          ]
        },
        {
          "metadata": {
            "tags": null
          },
          "name": "stdout",
          "output_type": "stream",
          "text": [
            "Downloading data from https://osf.io/download/5cb4701e3992690018133d4f/ ...\n"
          ]
        },
        {
          "metadata": {
            "tags": null
          },
          "name": "stderr",
          "output_type": "stream",
          "text": [
            " ...done. (3 seconds, 0 min)\n"
          ]
        },
        {
          "metadata": {
            "tags": null
          },
          "name": "stdout",
          "output_type": "stream",
          "text": [
            "Downloading data from https://osf.io/download/5cb46e6b353c58001b9cb34f/ ...\n"
          ]
        },
        {
          "metadata": {
            "tags": null
          },
          "name": "stderr",
          "output_type": "stream",
          "text": [
            " ...done. (4 seconds, 0 min)\n"
          ]
        },
        {
          "metadata": {
            "tags": null
          },
          "name": "stdout",
          "output_type": "stream",
          "text": [
            "Downloading data from https://osf.io/download/5c8ff37d4712b400193b5b54/ ...\n"
          ]
        },
        {
          "metadata": {
            "tags": null
          },
          "name": "stderr",
          "output_type": "stream",
          "text": [
            " ...done. (3 seconds, 0 min)\n"
          ]
        },
        {
          "metadata": {
            "tags": null
          },
          "name": "stdout",
          "output_type": "stream",
          "text": [
            "Downloading data from https://osf.io/download/5c8ff37d4712b400183b7011/ ...\n"
          ]
        },
        {
          "metadata": {
            "tags": null
          },
          "name": "stderr",
          "output_type": "stream",
          "text": [
            " ...done. (1 seconds, 0 min)\n"
          ]
        },
        {
          "metadata": {
            "tags": null
          },
          "name": "stdout",
          "output_type": "stream",
          "text": [
            "Downloading data from https://osf.io/download/5c8ff37e2286e80016c3c2cb/ ...\n"
          ]
        },
        {
          "metadata": {
            "tags": null
          },
          "name": "stderr",
          "output_type": "stream",
          "text": [
            " ...done. (1 seconds, 0 min)\n"
          ]
        },
        {
          "metadata": {
            "tags": null
          },
          "name": "stdout",
          "output_type": "stream",
          "text": [
            "Downloading data from https://osf.io/download/5c8ff3832286e80019c3c10f/ ...\n"
          ]
        },
        {
          "metadata": {
            "tags": null
          },
          "name": "stderr",
          "output_type": "stream",
          "text": [
            " ...done. (4 seconds, 0 min)\n"
          ]
        },
        {
          "metadata": {
            "tags": null
          },
          "name": "stdout",
          "output_type": "stream",
          "text": [
            "Downloading data from https://osf.io/download/5c8ff3822286e80018c3e37b/ ...\n"
          ]
        },
        {
          "metadata": {
            "tags": null
          },
          "name": "stderr",
          "output_type": "stream",
          "text": [
            " ...done. (3 seconds, 0 min)\n"
          ]
        },
        {
          "metadata": {
            "tags": null
          },
          "name": "stdout",
          "output_type": "stream",
          "text": [
            "Downloading data from https://osf.io/download/5c8ff382a743a90018606df8/ ...\n"
          ]
        },
        {
          "metadata": {
            "tags": null
          },
          "name": "stderr",
          "output_type": "stream",
          "text": [
            " ...done. (3 seconds, 0 min)\n"
          ]
        },
        {
          "metadata": {
            "tags": null
          },
          "name": "stdout",
          "output_type": "stream",
          "text": [
            "Downloading data from https://osf.io/download/5c8ff3814712b4001a3b5561/ ...\n"
          ]
        },
        {
          "metadata": {
            "tags": null
          },
          "name": "stderr",
          "output_type": "stream",
          "text": [
            " ...done. (2 seconds, 0 min)\n"
          ]
        },
        {
          "metadata": {
            "tags": null
          },
          "name": "stdout",
          "output_type": "stream",
          "text": [
            "Downloading data from https://osf.io/download/5c8ff3832286e80016c3c2d1/ ...\n"
          ]
        },
        {
          "metadata": {
            "tags": null
          },
          "name": "stderr",
          "output_type": "stream",
          "text": [
            " ...done. (3 seconds, 0 min)\n"
          ]
        },
        {
          "metadata": {
            "tags": null
          },
          "name": "stdout",
          "output_type": "stream",
          "text": [
            "Downloading data from https://osf.io/download/5c8ff3842286e80017c419e0/ ...\n"
          ]
        },
        {
          "metadata": {
            "tags": null
          },
          "name": "stderr",
          "output_type": "stream",
          "text": [
            " ...done. (3 seconds, 0 min)\n"
          ]
        },
        {
          "metadata": {
            "tags": null
          },
          "name": "stdout",
          "output_type": "stream",
          "text": [
            "Downloading data from https://osf.io/download/5c8ff3854712b4001a3b5568/ ...\n"
          ]
        },
        {
          "metadata": {
            "tags": null
          },
          "name": "stderr",
          "output_type": "stream",
          "text": [
            " ...done. (3 seconds, 0 min)\n"
          ]
        },
        {
          "metadata": {
            "tags": null
          },
          "name": "stdout",
          "output_type": "stream",
          "text": [
            "Downloading data from https://osf.io/download/5cb4702f39926900171090ee/ ...\n"
          ]
        },
        {
          "metadata": {
            "tags": null
          },
          "name": "stderr",
          "output_type": "stream",
          "text": [
            " ...done. (2 seconds, 0 min)\n"
          ]
        },
        {
          "metadata": {
            "tags": null
          },
          "name": "stdout",
          "output_type": "stream",
          "text": [
            "Downloading data from https://osf.io/download/5cb46e8b353c58001c9abe98/ ...\n"
          ]
        },
        {
          "metadata": {
            "tags": null
          },
          "name": "stderr",
          "output_type": "stream",
          "text": [
            " ...done. (2 seconds, 0 min)\n"
          ]
        },
        {
          "metadata": {
            "tags": null
          },
          "name": "stdout",
          "output_type": "stream",
          "text": [
            "Downloading data from https://osf.io/download/5c8ff3872286e80017c419ea/ ...\n"
          ]
        },
        {
          "metadata": {
            "tags": null
          },
          "name": "stderr",
          "output_type": "stream",
          "text": [
            " ...done. (3 seconds, 0 min)\n"
          ]
        },
        {
          "metadata": {
            "tags": null
          },
          "name": "stdout",
          "output_type": "stream",
          "text": [
            "Downloading data from https://osf.io/download/5c8ff3872286e80017c419e9/ ...\n"
          ]
        },
        {
          "metadata": {
            "tags": null
          },
          "name": "stderr",
          "output_type": "stream",
          "text": [
            " ...done. (1 seconds, 0 min)\n"
          ]
        },
        {
          "metadata": {
            "tags": null
          },
          "name": "stdout",
          "output_type": "stream",
          "text": [
            "Downloading data from https://osf.io/download/5c8ff3884712b400183b7023/ ...\n"
          ]
        },
        {
          "metadata": {
            "tags": null
          },
          "name": "stderr",
          "output_type": "stream",
          "text": [
            " ...done. (3 seconds, 0 min)\n"
          ]
        },
        {
          "metadata": {
            "tags": null
          },
          "name": "stdout",
          "output_type": "stream",
          "text": [
            "Downloading data from https://osf.io/download/5c8ff3884712b400193b5b5c/ ...\n"
          ]
        },
        {
          "metadata": {
            "tags": null
          },
          "name": "stderr",
          "output_type": "stream",
          "text": [
            " ...done. (5 seconds, 0 min)\n"
          ]
        },
        {
          "metadata": {
            "tags": null
          },
          "name": "stdout",
          "output_type": "stream",
          "text": [
            "Downloading data from https://osf.io/download/5c8ff389a743a9001660a016/ ...\n"
          ]
        },
        {
          "metadata": {
            "tags": null
          },
          "name": "stderr",
          "output_type": "stream",
          "text": [
            " ...done. (3 seconds, 0 min)\n"
          ]
        },
        {
          "metadata": {
            "tags": null
          },
          "name": "stdout",
          "output_type": "stream",
          "text": [
            "Downloading data from https://osf.io/download/5c8ff38c2286e80016c3c2da/ ...\n"
          ]
        },
        {
          "metadata": {
            "tags": null
          },
          "name": "stderr",
          "output_type": "stream",
          "text": [
            " ...done. (4 seconds, 0 min)\n"
          ]
        },
        {
          "metadata": {
            "tags": null
          },
          "name": "stdout",
          "output_type": "stream",
          "text": [
            "Downloading data from https://osf.io/download/5c8ff38ca743a90018606dfe/ ...\n"
          ]
        },
        {
          "metadata": {
            "tags": null
          },
          "name": "stderr",
          "output_type": "stream",
          "text": [
            " ...done. (3 seconds, 0 min)\n"
          ]
        },
        {
          "metadata": {
            "tags": null
          },
          "name": "stdout",
          "output_type": "stream",
          "text": [
            "Downloading data from https://osf.io/download/5c8ff38ca743a9001760809e/ ...\n"
          ]
        },
        {
          "metadata": {
            "tags": null
          },
          "name": "stderr",
          "output_type": "stream",
          "text": [
            " ...done. (3 seconds, 0 min)\n"
          ]
        },
        {
          "metadata": {
            "tags": null
          },
          "name": "stdout",
          "output_type": "stream",
          "text": [
            "Downloading data from https://osf.io/download/5cb47056353c58001c9ac064/ ...\n"
          ]
        },
        {
          "metadata": {
            "tags": null
          },
          "name": "stderr",
          "output_type": "stream",
          "text": [
            " ...done. (4 seconds, 0 min)\n"
          ]
        },
        {
          "metadata": {
            "tags": null
          },
          "name": "stdout",
          "output_type": "stream",
          "text": [
            "Downloading data from https://osf.io/download/5cb46e5af2be3c001801f799/ ...\n"
          ]
        },
        {
          "metadata": {
            "tags": null
          },
          "name": "stderr",
          "output_type": "stream",
          "text": [
            " ...done. (4 seconds, 0 min)\n"
          ]
        },
        {
          "metadata": {
            "tags": null
          },
          "name": "stdout",
          "output_type": "stream",
          "text": [
            "Downloading data from https://osf.io/download/5cb4703bf2be3c001801fa49/ ...\n"
          ]
        },
        {
          "metadata": {
            "tags": null
          },
          "name": "stderr",
          "output_type": "stream",
          "text": [
            " ...done. (3 seconds, 0 min)\n"
          ]
        },
        {
          "metadata": {
            "tags": null
          },
          "name": "stdout",
          "output_type": "stream",
          "text": [
            "Downloading data from https://osf.io/download/5cb46e92a3bc970019f0717f/ ...\n"
          ]
        },
        {
          "metadata": {
            "tags": null
          },
          "name": "stderr",
          "output_type": "stream",
          "text": [
            " ...done. (4 seconds, 0 min)\n"
          ]
        },
        {
          "metadata": {
            "tags": null
          },
          "name": "stdout",
          "output_type": "stream",
          "text": [
            "Downloading data from https://osf.io/download/5c8ff38c4712b4001a3b5573/ ...\n"
          ]
        },
        {
          "metadata": {
            "tags": null
          },
          "name": "stderr",
          "output_type": "stream",
          "text": [
            " ...done. (3 seconds, 0 min)\n"
          ]
        },
        {
          "metadata": {
            "tags": null
          },
          "name": "stdout",
          "output_type": "stream",
          "text": [
            "Downloading data from https://osf.io/download/5c8ff38da743a900176080a2/ ...\n"
          ]
        },
        {
          "metadata": {
            "tags": null
          },
          "name": "stderr",
          "output_type": "stream",
          "text": [
            " ...done. (4 seconds, 0 min)\n"
          ]
        },
        {
          "metadata": {
            "tags": null
          },
          "name": "stdout",
          "output_type": "stream",
          "text": [
            "Downloading data from https://osf.io/download/5cb47016a3bc970017efe44f/ ...\n"
          ]
        },
        {
          "metadata": {
            "tags": null
          },
          "name": "stderr",
          "output_type": "stream",
          "text": [
            " ...done. (1 seconds, 0 min)\n"
          ]
        },
        {
          "metadata": {
            "tags": null
          },
          "name": "stdout",
          "output_type": "stream",
          "text": [
            "Downloading data from https://osf.io/download/5cb46e43f2be3c0017056b8a/ ...\n"
          ]
        },
        {
          "metadata": {
            "tags": null
          },
          "name": "stderr",
          "output_type": "stream",
          "text": [
            " ...done. (3 seconds, 0 min)\n"
          ]
        },
        {
          "metadata": {
            "tags": null
          },
          "name": "stdout",
          "output_type": "stream",
          "text": [
            "Downloading data from https://osf.io/download/5cb470413992690018133d8c/ ...\n"
          ]
        },
        {
          "metadata": {
            "tags": null
          },
          "name": "stderr",
          "output_type": "stream",
          "text": [
            " ...done. (2 seconds, 0 min)\n"
          ]
        },
        {
          "metadata": {
            "tags": null
          },
          "name": "stdout",
          "output_type": "stream",
          "text": [
            "Downloading data from https://osf.io/download/5cb46e9a353c58001c9abeac/ ...\n"
          ]
        },
        {
          "metadata": {
            "tags": null
          },
          "name": "stderr",
          "output_type": "stream",
          "text": [
            " ...done. (2 seconds, 0 min)\n"
          ]
        },
        {
          "metadata": {
            "tags": null
          },
          "name": "stdout",
          "output_type": "stream",
          "text": [
            "Downloading data from https://osf.io/download/5c8ff38f2286e80018c3e38d/ ...\n"
          ]
        },
        {
          "metadata": {
            "tags": null
          },
          "name": "stderr",
          "output_type": "stream",
          "text": [
            " ...done. (3 seconds, 0 min)\n"
          ]
        },
        {
          "metadata": {
            "tags": null
          },
          "name": "stdout",
          "output_type": "stream",
          "text": [
            "Downloading data from https://osf.io/download/5c8ff3914712b4001a3b5579/ ...\n"
          ]
        },
        {
          "metadata": {
            "tags": null
          },
          "name": "stderr",
          "output_type": "stream",
          "text": [
            " ...done. (3 seconds, 0 min)\n"
          ]
        },
        {
          "metadata": {
            "tags": null
          },
          "name": "stdout",
          "output_type": "stream",
          "text": [
            "Downloading data from https://osf.io/download/5cb4702a353c58001b9cb5ae/ ...\n"
          ]
        },
        {
          "metadata": {
            "tags": null
          },
          "name": "stderr",
          "output_type": "stream",
          "text": [
            " ...done. (2 seconds, 0 min)\n"
          ]
        },
        {
          "metadata": {
            "tags": null
          },
          "name": "stdout",
          "output_type": "stream",
          "text": [
            "Downloading data from https://osf.io/download/5cb46e9b39926900190fad5c/ ...\n"
          ]
        },
        {
          "metadata": {
            "tags": null
          },
          "name": "stderr",
          "output_type": "stream",
          "text": [
            " ...done. (4 seconds, 0 min)\n"
          ]
        },
        {
          "metadata": {
            "tags": null
          },
          "name": "stdout",
          "output_type": "stream",
          "text": [
            "Downloading data from https://osf.io/download/5c8ff391a743a900176080a9/ ...\n"
          ]
        },
        {
          "metadata": {
            "tags": null
          },
          "name": "stderr",
          "output_type": "stream",
          "text": [
            " ...done. (2 seconds, 0 min)\n"
          ]
        },
        {
          "metadata": {
            "tags": null
          },
          "name": "stdout",
          "output_type": "stream",
          "text": [
            "Downloading data from https://osf.io/download/5c8ff3914712b400173b5329/ ...\n"
          ]
        },
        {
          "metadata": {
            "tags": null
          },
          "name": "stderr",
          "output_type": "stream",
          "text": [
            " ...done. (3 seconds, 0 min)\n"
          ]
        },
        {
          "metadata": {
            "tags": null
          },
          "name": "stdout",
          "output_type": "stream",
          "text": [
            "Downloading data from https://osf.io/download/5cb47023353c58001c9ac02b/ ...\n"
          ]
        },
        {
          "metadata": {
            "tags": null
          },
          "name": "stderr",
          "output_type": "stream",
          "text": [
            " ...done. (4 seconds, 0 min)\n"
          ]
        },
        {
          "metadata": {
            "tags": null
          },
          "name": "stdout",
          "output_type": "stream",
          "text": [
            "Downloading data from https://osf.io/download/5cb46eaa39926900160f69af/ ...\n"
          ]
        },
        {
          "metadata": {
            "tags": null
          },
          "name": "stderr",
          "output_type": "stream",
          "text": [
            " ...done. (4 seconds, 0 min)\n"
          ]
        },
        {
          "metadata": {
            "tags": null
          },
          "name": "stdout",
          "output_type": "stream",
          "text": [
            "Downloading data from https://osf.io/download/5c8ff3912286e80018c3e393/ ...\n"
          ]
        },
        {
          "metadata": {
            "tags": null
          },
          "name": "stderr",
          "output_type": "stream",
          "text": [
            " ...done. (3 seconds, 0 min)\n"
          ]
        },
        {
          "metadata": {
            "tags": null
          },
          "name": "stdout",
          "output_type": "stream",
          "text": [
            "Downloading data from https://osf.io/download/5c8ff3952286e80017c41a1b/ ...\n"
          ]
        },
        {
          "metadata": {
            "tags": null
          },
          "name": "stderr",
          "output_type": "stream",
          "text": [
            " ...done. (4 seconds, 0 min)\n"
          ]
        },
        {
          "metadata": {
            "tags": null
          },
          "name": "stdout",
          "output_type": "stream",
          "text": [
            "Downloading data from https://osf.io/download/5cb47045a3bc970019f073a0/ ...\n"
          ]
        },
        {
          "metadata": {
            "tags": null
          },
          "name": "stderr",
          "output_type": "stream",
          "text": [
            " ...done. (4 seconds, 0 min)\n"
          ]
        },
        {
          "metadata": {
            "tags": null
          },
          "name": "stdout",
          "output_type": "stream",
          "text": [
            "Downloading data from https://osf.io/download/5cb46e913992690018133b1c/ ...\n"
          ]
        },
        {
          "metadata": {
            "tags": null
          },
          "name": "stderr",
          "output_type": "stream",
          "text": [
            " ...done. (3 seconds, 0 min)\n"
          ]
        },
        {
          "metadata": {
            "tags": null
          },
          "name": "stdout",
          "output_type": "stream",
          "text": [
            "Downloading data from https://osf.io/download/5cb47052f2be3c0017057069/ ...\n"
          ]
        },
        {
          "metadata": {
            "tags": null
          },
          "name": "stderr",
          "output_type": "stream",
          "text": [
            " ...done. (4 seconds, 0 min)\n"
          ]
        },
        {
          "metadata": {
            "tags": null
          },
          "name": "stdout",
          "output_type": "stream",
          "text": [
            "Downloading data from https://osf.io/download/5cb46e5c353c5800199ac79f/ ...\n"
          ]
        },
        {
          "metadata": {
            "tags": null
          },
          "name": "stderr",
          "output_type": "stream",
          "text": [
            " ...done. (1 seconds, 0 min)\n"
          ]
        },
        {
          "metadata": {
            "tags": null
          },
          "name": "stdout",
          "output_type": "stream",
          "text": [
            "Downloading data from https://osf.io/download/5cb47057f2be3c0019030a1f/ ...\n"
          ]
        },
        {
          "metadata": {
            "tags": null
          },
          "name": "stderr",
          "output_type": "stream",
          "text": [
            " ...done. (3 seconds, 0 min)\n"
          ]
        },
        {
          "metadata": {
            "tags": null
          },
          "name": "stdout",
          "output_type": "stream",
          "text": [
            "Downloading data from https://osf.io/download/5cb46e63f2be3c0017056ba9/ ...\n"
          ]
        },
        {
          "metadata": {
            "tags": null
          },
          "name": "stderr",
          "output_type": "stream",
          "text": [
            " ...done. (2 seconds, 0 min)\n"
          ]
        },
        {
          "metadata": {
            "tags": null
          },
          "name": "stdout",
          "output_type": "stream",
          "text": [
            "Downloading data from https://osf.io/download/5cb4704af2be3c001705703b/ ...\n"
          ]
        },
        {
          "metadata": {
            "tags": null
          },
          "name": "stderr",
          "output_type": "stream",
          "text": [
            " ...done. (3 seconds, 0 min)\n"
          ]
        },
        {
          "metadata": {
            "tags": null
          },
          "name": "stdout",
          "output_type": "stream",
          "text": [
            "Downloading data from https://osf.io/download/5cb46e7a353c58001a9b3324/ ...\n"
          ]
        },
        {
          "metadata": {
            "tags": null
          },
          "name": "stderr",
          "output_type": "stream",
          "text": [
            " ...done. (4 seconds, 0 min)\n"
          ]
        },
        {
          "metadata": {
            "tags": null
          },
          "name": "stdout",
          "output_type": "stream",
          "text": [
            "Downloading data from https://osf.io/download/5c8ff3952286e80016c3c2e7/ ...\n"
          ]
        },
        {
          "metadata": {
            "tags": null
          },
          "name": "stderr",
          "output_type": "stream",
          "text": [
            " ...done. (3 seconds, 0 min)\n"
          ]
        },
        {
          "metadata": {
            "tags": null
          },
          "name": "stdout",
          "output_type": "stream",
          "text": [
            "Downloading data from https://osf.io/download/5c8ff3954712b400193b5b79/ ...\n"
          ]
        },
        {
          "metadata": {
            "tags": null
          },
          "name": "stderr",
          "output_type": "stream",
          "text": [
            " ...done. (3 seconds, 0 min)\n"
          ]
        },
        {
          "metadata": {
            "tags": null
          },
          "name": "stdout",
          "output_type": "stream",
          "text": [
            "Downloading data from https://osf.io/download/5cb47016a3bc970018f1fc88/ ...\n"
          ]
        },
        {
          "metadata": {
            "tags": null
          },
          "name": "stderr",
          "output_type": "stream",
          "text": [
            " ...done. (2 seconds, 0 min)\n"
          ]
        },
        {
          "metadata": {
            "tags": null
          },
          "name": "stdout",
          "output_type": "stream",
          "text": [
            "Downloading data from https://osf.io/download/5cb46e6ba3bc970019f07152/ ...\n"
          ]
        },
        {
          "metadata": {
            "tags": null
          },
          "name": "stderr",
          "output_type": "stream",
          "text": [
            " ...done. (4 seconds, 0 min)\n"
          ]
        },
        {
          "metadata": {
            "tags": null
          },
          "name": "stdout",
          "output_type": "stream",
          "text": [
            "Downloading data from https://osf.io/download/5c8ff395a743a900176080af/ ...\n"
          ]
        },
        {
          "metadata": {
            "tags": null
          },
          "name": "stderr",
          "output_type": "stream",
          "text": [
            " ...done. (3 seconds, 0 min)\n"
          ]
        },
        {
          "metadata": {
            "tags": null
          },
          "name": "stdout",
          "output_type": "stream",
          "text": [
            "Downloading data from https://osf.io/download/5c8ff3964712b400193b5b7d/ ...\n"
          ]
        },
        {
          "metadata": {
            "tags": null
          },
          "name": "stderr",
          "output_type": "stream",
          "text": [
            " ...done. (2 seconds, 0 min)\n"
          ]
        },
        {
          "metadata": {
            "tags": null
          },
          "name": "stdout",
          "output_type": "stream",
          "text": [
            "Downloading data from https://osf.io/download/5c8ff399a743a9001660a031/ ...\n"
          ]
        },
        {
          "metadata": {
            "tags": null
          },
          "name": "stderr",
          "output_type": "stream",
          "text": [
            " ...done. (3 seconds, 0 min)\n"
          ]
        },
        {
          "metadata": {
            "tags": null
          },
          "name": "stdout",
          "output_type": "stream",
          "text": [
            "Downloading data from https://osf.io/download/5c8ff3982286e80017c41a29/ ...\n"
          ]
        },
        {
          "metadata": {
            "tags": null
          },
          "name": "stderr",
          "output_type": "stream",
          "text": [
            " ...done. (3 seconds, 0 min)\n"
          ]
        },
        {
          "metadata": {
            "tags": null
          },
          "name": "stdout",
          "output_type": "stream",
          "text": [
            "Downloading data from https://osf.io/download/5c8ff39aa743a90018606e21/ ...\n"
          ]
        },
        {
          "metadata": {
            "tags": null
          },
          "name": "stderr",
          "output_type": "stream",
          "text": [
            " ...done. (3 seconds, 0 min)\n"
          ]
        },
        {
          "metadata": {
            "tags": null
          },
          "name": "stdout",
          "output_type": "stream",
          "text": [
            "Downloading data from https://osf.io/download/5c8ff39aa743a900176080ba/ ...\n"
          ]
        },
        {
          "metadata": {
            "tags": null
          },
          "name": "stderr",
          "output_type": "stream",
          "text": [
            " ...done. (4 seconds, 0 min)\n"
          ]
        },
        {
          "metadata": {
            "tags": null
          },
          "name": "stdout",
          "output_type": "stream",
          "text": [
            "Downloading data from https://osf.io/download/5cb470153992690018133d3b/ ...\n"
          ]
        },
        {
          "metadata": {
            "tags": null
          },
          "name": "stderr",
          "output_type": "stream",
          "text": [
            " ...done. (2 seconds, 0 min)\n"
          ]
        },
        {
          "metadata": {
            "tags": null
          },
          "name": "stdout",
          "output_type": "stream",
          "text": [
            "Downloading data from https://osf.io/download/5cb46e793992690017108eb9/ ...\n"
          ]
        },
        {
          "metadata": {
            "tags": null
          },
          "name": "stderr",
          "output_type": "stream",
          "text": [
            " ...done. (1 seconds, 0 min)\n"
          ]
        },
        {
          "metadata": {
            "tags": null
          },
          "name": "stdout",
          "output_type": "stream",
          "text": [
            "Downloading data from https://osf.io/download/5cb47038353c5800199ac9a2/ ...\n"
          ]
        },
        {
          "metadata": {
            "tags": null
          },
          "name": "stderr",
          "output_type": "stream",
          "text": [
            " ...done. (1 seconds, 0 min)\n"
          ]
        },
        {
          "metadata": {
            "tags": null
          },
          "name": "stdout",
          "output_type": "stream",
          "text": [
            "Downloading data from https://osf.io/download/5cb46e85a3bc97001aeff750/ ...\n"
          ]
        },
        {
          "metadata": {
            "tags": null
          },
          "name": "stderr",
          "output_type": "stream",
          "text": [
            " ...done. (2 seconds, 0 min)\n"
          ]
        },
        {
          "metadata": {
            "tags": null
          },
          "name": "stdout",
          "output_type": "stream",
          "text": [
            "Downloading data from https://osf.io/download/5cb4701c3992690018133d49/ ...\n"
          ]
        },
        {
          "metadata": {
            "tags": null
          },
          "name": "stderr",
          "output_type": "stream",
          "text": [
            " ...done. (3 seconds, 0 min)\n"
          ]
        },
        {
          "metadata": {
            "tags": null
          },
          "name": "stdout",
          "output_type": "stream",
          "text": [
            "Downloading data from https://osf.io/download/5cb46e1c3992690018133a9e/ ...\n"
          ]
        },
        {
          "metadata": {
            "tags": null
          },
          "name": "stderr",
          "output_type": "stream",
          "text": [
            " ...done. (3 seconds, 0 min)\n"
          ]
        },
        {
          "metadata": {
            "tags": null
          },
          "name": "stdout",
          "output_type": "stream",
          "text": [
            "Downloading data from https://osf.io/download/5c8ff39aa743a900176080bf/ ...\n"
          ]
        },
        {
          "metadata": {
            "tags": null
          },
          "name": "stderr",
          "output_type": "stream",
          "text": [
            " ...done. (2 seconds, 0 min)\n"
          ]
        },
        {
          "metadata": {
            "tags": null
          },
          "name": "stdout",
          "output_type": "stream",
          "text": [
            "Downloading data from https://osf.io/download/5c8ff39d4712b400193b5b89/ ...\n"
          ]
        },
        {
          "metadata": {
            "tags": null
          },
          "name": "stderr",
          "output_type": "stream",
          "text": [
            " ...done. (2 seconds, 0 min)\n"
          ]
        },
        {
          "metadata": {
            "tags": null
          },
          "name": "stdout",
          "output_type": "stream",
          "text": [
            "Downloading data from https://osf.io/download/5cb4703039926900160f6b3e/ ...\n"
          ]
        },
        {
          "metadata": {
            "tags": null
          },
          "name": "stderr",
          "output_type": "stream",
          "text": [
            " ...done. (3 seconds, 0 min)\n"
          ]
        },
        {
          "metadata": {
            "tags": null
          },
          "name": "stdout",
          "output_type": "stream",
          "text": [
            "Downloading data from https://osf.io/download/5cb46e4d353c58001b9cb325/ ...\n"
          ]
        },
        {
          "metadata": {
            "tags": null
          },
          "name": "stderr",
          "output_type": "stream",
          "text": [
            " ...done. (2 seconds, 0 min)\n"
          ]
        },
        {
          "metadata": {
            "tags": null
          },
          "name": "stdout",
          "output_type": "stream",
          "text": [
            "Downloading data from https://osf.io/download/5cb4700af2be3c0017056f69/ ...\n"
          ]
        },
        {
          "metadata": {
            "tags": null
          },
          "name": "stderr",
          "output_type": "stream",
          "text": [
            " ...done. (3 seconds, 0 min)\n"
          ]
        },
        {
          "metadata": {
            "tags": null
          },
          "name": "stdout",
          "output_type": "stream",
          "text": [
            "Downloading data from https://osf.io/download/5cb46e0cf2be3c001801f757/ ...\n"
          ]
        },
        {
          "metadata": {
            "tags": null
          },
          "name": "stderr",
          "output_type": "stream",
          "text": [
            " ...done. (3 seconds, 0 min)\n"
          ]
        },
        {
          "metadata": {
            "tags": null
          },
          "name": "stdout",
          "output_type": "stream",
          "text": [
            "Downloading data from https://osf.io/download/5cb4702b39926900171090e4/ ...\n"
          ]
        },
        {
          "metadata": {
            "tags": null
          },
          "name": "stderr",
          "output_type": "stream",
          "text": [
            " ...done. (4 seconds, 0 min)\n"
          ]
        },
        {
          "metadata": {
            "tags": null
          },
          "name": "stdout",
          "output_type": "stream",
          "text": [
            "Downloading data from https://osf.io/download/5cb46e35f2be3c00190305ff/ ...\n"
          ]
        },
        {
          "metadata": {
            "tags": null
          },
          "name": "stderr",
          "output_type": "stream",
          "text": [
            " ...done. (2 seconds, 0 min)\n"
          ]
        },
        {
          "metadata": {
            "tags": null
          },
          "name": "stdout",
          "output_type": "stream",
          "text": [
            "Downloading data from https://osf.io/download/5c8ff39ca743a90019606c50/ ...\n"
          ]
        },
        {
          "metadata": {
            "tags": null
          },
          "name": "stderr",
          "output_type": "stream",
          "text": [
            " ...done. (3 seconds, 0 min)\n"
          ]
        },
        {
          "metadata": {
            "tags": null
          },
          "name": "stdout",
          "output_type": "stream",
          "text": [
            "Downloading data from https://osf.io/download/5c8ff3a2a743a9001660a048/ ...\n"
          ]
        },
        {
          "metadata": {
            "tags": null
          },
          "name": "stderr",
          "output_type": "stream",
          "text": [
            " ...done. (4 seconds, 0 min)\n"
          ]
        },
        {
          "metadata": {
            "tags": null
          },
          "name": "stdout",
          "output_type": "stream",
          "text": [
            "Downloading data from https://osf.io/download/5cb4701ff2be3c0017056fad/ ...\n"
          ]
        },
        {
          "metadata": {
            "tags": null
          },
          "name": "stderr",
          "output_type": "stream",
          "text": [
            " ...done. (1 seconds, 0 min)\n"
          ]
        },
        {
          "metadata": {
            "tags": null
          },
          "name": "stdout",
          "output_type": "stream",
          "text": [
            "Downloading data from https://osf.io/download/5cb46e0339926900160f6930/ ...\n"
          ]
        },
        {
          "metadata": {
            "tags": null
          },
          "name": "stderr",
          "output_type": "stream",
          "text": [
            " ...done. (3 seconds, 0 min)\n"
          ]
        },
        {
          "metadata": {
            "tags": null
          },
          "name": "stdout",
          "output_type": "stream",
          "text": [
            "Downloading data from https://osf.io/download/5c8ff3a12286e80017c41a48/ ...\n"
          ]
        },
        {
          "metadata": {
            "tags": null
          },
          "name": "stderr",
          "output_type": "stream",
          "text": [
            " ...done. (1 seconds, 0 min)\n"
          ]
        },
        {
          "metadata": {
            "tags": null
          },
          "name": "stdout",
          "output_type": "stream",
          "text": [
            "Downloading data from https://osf.io/download/5c8ff3a12286e80016c3c2fc/ ...\n"
          ]
        },
        {
          "metadata": {
            "tags": null
          },
          "name": "stderr",
          "output_type": "stream",
          "text": [
            " ...done. (4 seconds, 0 min)\n"
          ]
        },
        {
          "metadata": {
            "tags": null
          },
          "name": "stdout",
          "output_type": "stream",
          "text": [
            "Downloading data from https://osf.io/download/5c8ff39fa743a90018606e2f/ ...\n"
          ]
        },
        {
          "metadata": {
            "tags": null
          },
          "name": "stderr",
          "output_type": "stream",
          "text": [
            " ...done. (1 seconds, 0 min)\n"
          ]
        },
        {
          "metadata": {
            "tags": null
          },
          "name": "stdout",
          "output_type": "stream",
          "text": [
            "Downloading data from https://osf.io/download/5c8ff3a34712b4001a3b55a3/ ...\n"
          ]
        },
        {
          "metadata": {
            "tags": null
          },
          "name": "stderr",
          "output_type": "stream",
          "text": [
            " ...done. (3 seconds, 0 min)\n"
          ]
        },
        {
          "metadata": {
            "tags": null
          },
          "name": "stdout",
          "output_type": "stream",
          "text": [
            "Downloading data from https://osf.io/download/5cb4703439926900160f6b43/ ...\n"
          ]
        },
        {
          "metadata": {
            "tags": null
          },
          "name": "stderr",
          "output_type": "stream",
          "text": [
            " ...done. (1 seconds, 0 min)\n"
          ]
        },
        {
          "metadata": {
            "tags": null
          },
          "name": "stdout",
          "output_type": "stream",
          "text": [
            "Downloading data from https://osf.io/download/5cb46e40f2be3c001801f77f/ ...\n"
          ]
        },
        {
          "metadata": {
            "tags": null
          },
          "name": "stderr",
          "output_type": "stream",
          "text": [
            " ...done. (4 seconds, 0 min)\n"
          ]
        },
        {
          "metadata": {
            "tags": null
          },
          "name": "stdout",
          "output_type": "stream",
          "text": [
            "Downloading data from https://osf.io/download/5c8ff3a34712b400193b5b92/ ...\n"
          ]
        },
        {
          "metadata": {
            "tags": null
          },
          "name": "stderr",
          "output_type": "stream",
          "text": [
            " ...done. (3 seconds, 0 min)\n"
          ]
        },
        {
          "metadata": {
            "tags": null
          },
          "name": "stdout",
          "output_type": "stream",
          "text": [
            "Downloading data from https://osf.io/download/5c8ff3a84712b400183b7048/ ...\n"
          ]
        },
        {
          "metadata": {
            "tags": null
          },
          "name": "stderr",
          "output_type": "stream",
          "text": [
            " ...done. (1 seconds, 0 min)\n"
          ]
        },
        {
          "metadata": {
            "tags": null
          },
          "name": "stdout",
          "output_type": "stream",
          "text": [
            "Downloading data from https://osf.io/download/5cb47020f2be3c0019030968/ ...\n"
          ]
        },
        {
          "metadata": {
            "tags": null
          },
          "name": "stderr",
          "output_type": "stream",
          "text": [
            " ...done. (2 seconds, 0 min)\n"
          ]
        },
        {
          "metadata": {
            "tags": null
          },
          "name": "stdout",
          "output_type": "stream",
          "text": [
            "Downloading data from https://osf.io/download/5cb46e6f353c58001a9b3311/ ...\n"
          ]
        },
        {
          "metadata": {
            "tags": null
          },
          "name": "stderr",
          "output_type": "stream",
          "text": [
            " ...done. (4 seconds, 0 min)\n"
          ]
        },
        {
          "metadata": {
            "tags": null
          },
          "name": "stdout",
          "output_type": "stream",
          "text": [
            "Downloading data from https://osf.io/download/5c8ff3a72286e80017c41a54/ ...\n"
          ]
        },
        {
          "metadata": {
            "tags": null
          },
          "name": "stderr",
          "output_type": "stream",
          "text": [
            " ...done. (4 seconds, 0 min)\n"
          ]
        },
        {
          "metadata": {
            "tags": null
          },
          "name": "stdout",
          "output_type": "stream",
          "text": [
            "Downloading data from https://osf.io/download/5c8ff3a7a743a90018606e42/ ...\n"
          ]
        },
        {
          "metadata": {
            "tags": null
          },
          "name": "stderr",
          "output_type": "stream",
          "text": [
            " ...done. (4 seconds, 0 min)\n"
          ]
        },
        {
          "metadata": {
            "tags": null
          },
          "name": "stdout",
          "output_type": "stream",
          "text": [
            "Downloading data from https://osf.io/download/5cb4702639926900190faf1d/ ...\n"
          ]
        },
        {
          "metadata": {
            "tags": null
          },
          "name": "stderr",
          "output_type": "stream",
          "text": [
            " ...done. (3 seconds, 0 min)\n"
          ]
        },
        {
          "metadata": {
            "tags": null
          },
          "name": "stdout",
          "output_type": "stream",
          "text": [
            "Downloading data from https://osf.io/download/5cb46e3f353c5800199ac787/ ...\n"
          ]
        },
        {
          "metadata": {
            "tags": null
          },
          "name": "stderr",
          "output_type": "stream",
          "text": [
            " ...done. (2 seconds, 0 min)\n"
          ]
        },
        {
          "metadata": {
            "tags": null
          },
          "name": "stdout",
          "output_type": "stream",
          "text": [
            "Downloading data from https://osf.io/download/5cb47049353c5800199ac9b4/ ...\n"
          ]
        },
        {
          "metadata": {
            "tags": null
          },
          "name": "stderr",
          "output_type": "stream",
          "text": [
            " ...done. (3 seconds, 0 min)\n"
          ]
        },
        {
          "metadata": {
            "tags": null
          },
          "name": "stdout",
          "output_type": "stream",
          "text": [
            "Downloading data from https://osf.io/download/5cb46eaa353c58001c9abebb/ ...\n"
          ]
        },
        {
          "metadata": {
            "tags": null
          },
          "name": "stderr",
          "output_type": "stream",
          "text": [
            " ...done. (2 seconds, 0 min)\n"
          ]
        },
        {
          "metadata": {
            "tags": null
          },
          "name": "stdout",
          "output_type": "stream",
          "text": [
            "Downloading data from https://osf.io/download/5c8ff3a74712b4001a3b55ad/ ...\n"
          ]
        },
        {
          "metadata": {
            "tags": null
          },
          "name": "stderr",
          "output_type": "stream",
          "text": [
            " ...done. (3 seconds, 0 min)\n"
          ]
        },
        {
          "metadata": {
            "tags": null
          },
          "name": "stdout",
          "output_type": "stream",
          "text": [
            "Downloading data from https://osf.io/download/5c8ff3a72286e80017c41a59/ ...\n"
          ]
        },
        {
          "metadata": {
            "tags": null
          },
          "name": "stderr",
          "output_type": "stream",
          "text": [
            " ...done. (3 seconds, 0 min)\n"
          ]
        },
        {
          "metadata": {
            "tags": null
          },
          "name": "stdout",
          "output_type": "stream",
          "text": [
            "Downloading data from https://osf.io/download/5c8ff3aa4712b400183b704d/ ...\n"
          ]
        },
        {
          "metadata": {
            "tags": null
          },
          "name": "stderr",
          "output_type": "stream",
          "text": [
            " ...done. (3 seconds, 0 min)\n"
          ]
        },
        {
          "metadata": {
            "tags": null
          },
          "name": "stdout",
          "output_type": "stream",
          "text": [
            "Downloading data from https://osf.io/download/5c8ff3ac4712b4001a3b55b7/ ...\n"
          ]
        },
        {
          "metadata": {
            "tags": null
          },
          "name": "stderr",
          "output_type": "stream",
          "text": [
            " ...done. (1 seconds, 0 min)\n"
          ]
        },
        {
          "metadata": {
            "tags": null
          },
          "name": "stdout",
          "output_type": "stream",
          "text": [
            "Downloading data from https://osf.io/download/5cb47051f2be3c001601df24/ ...\n"
          ]
        },
        {
          "metadata": {
            "tags": null
          },
          "name": "stderr",
          "output_type": "stream",
          "text": [
            " ...done. (3 seconds, 0 min)\n"
          ]
        },
        {
          "metadata": {
            "tags": null
          },
          "name": "stdout",
          "output_type": "stream",
          "text": [
            "Downloading data from https://osf.io/download/5cb46e12f2be3c001801f75e/ ...\n"
          ]
        },
        {
          "metadata": {
            "tags": null
          },
          "name": "stderr",
          "output_type": "stream",
          "text": [
            " ...done. (3 seconds, 0 min)\n"
          ]
        },
        {
          "metadata": {
            "tags": null
          },
          "name": "stdout",
          "output_type": "stream",
          "text": [
            "Downloading data from https://osf.io/download/5c8ff3aca743a9001660a063/ ...\n"
          ]
        },
        {
          "metadata": {
            "tags": null
          },
          "name": "stderr",
          "output_type": "stream",
          "text": [
            " ...done. (3 seconds, 0 min)\n"
          ]
        },
        {
          "metadata": {
            "tags": null
          },
          "name": "stdout",
          "output_type": "stream",
          "text": [
            "Downloading data from https://osf.io/download/5c8ff3ac4712b400183b7051/ ...\n"
          ]
        },
        {
          "metadata": {
            "tags": null
          },
          "name": "stderr",
          "output_type": "stream",
          "text": [
            " ...done. (4 seconds, 0 min)\n"
          ]
        },
        {
          "metadata": {
            "tags": null
          },
          "name": "stdout",
          "output_type": "stream",
          "text": [
            "Downloading data from https://osf.io/download/5cb47032a3bc970019f07386/ ...\n"
          ]
        },
        {
          "metadata": {
            "tags": null
          },
          "name": "stderr",
          "output_type": "stream",
          "text": [
            " ...done. (2 seconds, 0 min)\n"
          ]
        },
        {
          "metadata": {
            "tags": null
          },
          "name": "stdout",
          "output_type": "stream",
          "text": [
            "Downloading data from https://osf.io/download/5cb46e42353c58001b9cb311/ ...\n"
          ]
        },
        {
          "metadata": {
            "tags": null
          },
          "name": "stderr",
          "output_type": "stream",
          "text": [
            " ...done. (4 seconds, 0 min)\n"
          ]
        },
        {
          "metadata": {
            "tags": null
          },
          "name": "stdout",
          "output_type": "stream",
          "text": [
            "Downloading data from https://osf.io/download/5cb47036f2be3c001801fa3d/ ...\n"
          ]
        },
        {
          "metadata": {
            "tags": null
          },
          "name": "stderr",
          "output_type": "stream",
          "text": [
            " ...done. (3 seconds, 0 min)\n"
          ]
        },
        {
          "metadata": {
            "tags": null
          },
          "name": "stdout",
          "output_type": "stream",
          "text": [
            "Downloading data from https://osf.io/download/5cb46e6539926900190fad0c/ ...\n"
          ]
        },
        {
          "metadata": {
            "tags": null
          },
          "name": "stderr",
          "output_type": "stream",
          "text": [
            " ...done. (4 seconds, 0 min)\n"
          ]
        },
        {
          "metadata": {
            "tags": null
          },
          "name": "stdout",
          "output_type": "stream",
          "text": [
            "Downloading data from https://osf.io/download/5cb47057353c58001a9b353f/ ...\n"
          ]
        },
        {
          "metadata": {
            "tags": null
          },
          "name": "stderr",
          "output_type": "stream",
          "text": [
            " ...done. (3 seconds, 0 min)\n"
          ]
        },
        {
          "metadata": {
            "tags": null
          },
          "name": "stdout",
          "output_type": "stream",
          "text": [
            "Downloading data from https://osf.io/download/5cb46ea4353c58001b9cb3a6/ ...\n"
          ]
        },
        {
          "metadata": {
            "tags": null
          },
          "name": "stderr",
          "output_type": "stream",
          "text": [
            " ...done. (3 seconds, 0 min)\n"
          ]
        },
        {
          "metadata": {
            "tags": null
          },
          "name": "stdout",
          "output_type": "stream",
          "text": [
            "Downloading data from https://osf.io/download/5cb4703af2be3c001601def7/ ...\n"
          ]
        },
        {
          "metadata": {
            "tags": null
          },
          "name": "stderr",
          "output_type": "stream",
          "text": [
            " ...done. (4 seconds, 0 min)\n"
          ]
        },
        {
          "metadata": {
            "tags": null
          },
          "name": "stdout",
          "output_type": "stream",
          "text": [
            "Downloading data from https://osf.io/download/5cb46e51f2be3c001801f78e/ ...\n"
          ]
        },
        {
          "metadata": {
            "tags": null
          },
          "name": "stderr",
          "output_type": "stream",
          "text": [
            " ...done. (4 seconds, 0 min)\n"
          ]
        },
        {
          "metadata": {
            "tags": null
          },
          "name": "stdout",
          "output_type": "stream",
          "text": [
            "Downloading data from https://osf.io/download/5c8ff3ae4712b400183b7055/ ...\n"
          ]
        },
        {
          "metadata": {
            "tags": null
          },
          "name": "stderr",
          "output_type": "stream",
          "text": [
            " ...done. (2 seconds, 0 min)\n"
          ]
        },
        {
          "metadata": {
            "tags": null
          },
          "name": "stdout",
          "output_type": "stream",
          "text": [
            "Downloading data from https://osf.io/download/5c8ff3af2286e80018c3e3c0/ ...\n"
          ]
        },
        {
          "metadata": {
            "tags": null
          },
          "name": "stderr",
          "output_type": "stream",
          "text": [
            " ...done. (4 seconds, 0 min)\n"
          ]
        },
        {
          "metadata": {
            "tags": null
          },
          "name": "stdout",
          "output_type": "stream",
          "text": [
            "Downloading data from https://osf.io/download/5c8ff3b02286e80018c3e3c4/ ...\n"
          ]
        },
        {
          "metadata": {
            "tags": null
          },
          "name": "stderr",
          "output_type": "stream",
          "text": [
            " ...done. (3 seconds, 0 min)\n"
          ]
        },
        {
          "metadata": {
            "tags": null
          },
          "name": "stdout",
          "output_type": "stream",
          "text": [
            "Downloading data from https://osf.io/download/5c8ff3b14712b400183b705a/ ...\n"
          ]
        },
        {
          "metadata": {
            "tags": null
          },
          "name": "stderr",
          "output_type": "stream",
          "text": [
            " ...done. (3 seconds, 0 min)\n"
          ]
        },
        {
          "metadata": {
            "tags": null
          },
          "name": "stdout",
          "output_type": "stream",
          "text": [
            "Downloading data from https://osf.io/download/5cb47029f2be3c0019030994/ ...\n"
          ]
        },
        {
          "metadata": {
            "tags": null
          },
          "name": "stderr",
          "output_type": "stream",
          "text": [
            " ...done. (3 seconds, 0 min)\n"
          ]
        },
        {
          "metadata": {
            "tags": null
          },
          "name": "stdout",
          "output_type": "stream",
          "text": [
            "Downloading data from https://osf.io/download/5cb46e17f2be3c00190305da/ ...\n"
          ]
        },
        {
          "metadata": {
            "tags": null
          },
          "name": "stderr",
          "output_type": "stream",
          "text": [
            " ...done. (2 seconds, 0 min)\n"
          ]
        },
        {
          "metadata": {
            "tags": null
          },
          "name": "stdout",
          "output_type": "stream",
          "text": [
            "Downloading data from https://osf.io/download/5cb47047f2be3c0017057034/ ...\n"
          ]
        },
        {
          "metadata": {
            "tags": null
          },
          "name": "stderr",
          "output_type": "stream",
          "text": [
            " ...done. (2 seconds, 0 min)\n"
          ]
        },
        {
          "metadata": {
            "tags": null
          },
          "name": "stdout",
          "output_type": "stream",
          "text": [
            "Downloading data from https://osf.io/download/5cb46e23a3bc970018f1fa00/ ...\n"
          ]
        },
        {
          "metadata": {
            "tags": null
          },
          "name": "stderr",
          "output_type": "stream",
          "text": [
            " ...done. (2 seconds, 0 min)\n"
          ]
        },
        {
          "metadata": {
            "tags": null
          },
          "name": "stdout",
          "output_type": "stream",
          "text": [
            "Downloading data from https://osf.io/download/5c8ff3b12286e80016c3c30f/ ...\n"
          ]
        },
        {
          "metadata": {
            "tags": null
          },
          "name": "stderr",
          "output_type": "stream",
          "text": [
            " ...done. (4 seconds, 0 min)\n"
          ]
        },
        {
          "metadata": {
            "tags": null
          },
          "name": "stdout",
          "output_type": "stream",
          "text": [
            "Downloading data from https://osf.io/download/5c8ff3b34712b400183b7060/ ...\n"
          ]
        },
        {
          "metadata": {
            "tags": null
          },
          "name": "stderr",
          "output_type": "stream",
          "text": [
            " ...done. (4 seconds, 0 min)\n"
          ]
        },
        {
          "metadata": {
            "tags": null
          },
          "name": "stdout",
          "output_type": "stream",
          "text": [
            "Downloading data from https://osf.io/download/5c8ff3b2a743a9001660a07a/ ...\n"
          ]
        },
        {
          "metadata": {
            "tags": null
          },
          "name": "stderr",
          "output_type": "stream",
          "text": [
            " ...done. (4 seconds, 0 min)\n"
          ]
        },
        {
          "metadata": {
            "tags": null
          },
          "name": "stdout",
          "output_type": "stream",
          "text": [
            "Downloading data from https://osf.io/download/5c8ff3b54712b400193b5ba3/ ...\n"
          ]
        },
        {
          "metadata": {
            "tags": null
          },
          "name": "stderr",
          "output_type": "stream",
          "text": [
            " ...done. (3 seconds, 0 min)\n"
          ]
        },
        {
          "metadata": {
            "tags": null
          },
          "name": "stdout",
          "output_type": "stream",
          "text": [
            "Downloading data from https://osf.io/download/5c9e99d006cd47001a5ab599/ ...\n"
          ]
        },
        {
          "metadata": {
            "tags": null
          },
          "name": "stderr",
          "output_type": "stream",
          "text": [
            " ...done. (2 seconds, 0 min)\n"
          ]
        },
        {
          "metadata": {
            "tags": null
          },
          "name": "stdout",
          "output_type": "stream",
          "text": [
            "Downloading data from https://osf.io/download/5c8ff3b62286e80016c3c31b/ ...\n"
          ]
        },
        {
          "metadata": {
            "tags": null
          },
          "name": "stderr",
          "output_type": "stream",
          "text": [
            " ...done. (2 seconds, 0 min)\n"
          ]
        },
        {
          "metadata": {
            "tags": null
          },
          "name": "stdout",
          "output_type": "stream",
          "text": [
            "Downloading data from https://osf.io/download/5cb47011f2be3c001903092f/ ...\n"
          ]
        },
        {
          "metadata": {
            "tags": null
          },
          "name": "stderr",
          "output_type": "stream",
          "text": [
            " ...done. (3 seconds, 0 min)\n"
          ]
        },
        {
          "metadata": {
            "tags": null
          },
          "name": "stdout",
          "output_type": "stream",
          "text": [
            "Downloading data from https://osf.io/download/5cb46e54353c58001a9b32f3/ ...\n"
          ]
        },
        {
          "metadata": {
            "tags": null
          },
          "name": "stderr",
          "output_type": "stream",
          "text": [
            " ...done. (3 seconds, 0 min)\n"
          ]
        },
        {
          "metadata": {
            "tags": null
          },
          "name": "stdout",
          "output_type": "stream",
          "text": [
            "Downloading data from https://osf.io/download/5c8ff3b72286e80017c41a88/ ...\n"
          ]
        },
        {
          "metadata": {
            "tags": null
          },
          "name": "stderr",
          "output_type": "stream",
          "text": [
            " ...done. (3 seconds, 0 min)\n"
          ]
        },
        {
          "metadata": {
            "tags": null
          },
          "name": "stdout",
          "output_type": "stream",
          "text": [
            "Downloading data from https://osf.io/download/5c8ff3b94712b4001a3b55bf/ ...\n"
          ]
        },
        {
          "metadata": {
            "tags": null
          },
          "name": "stderr",
          "output_type": "stream",
          "text": [
            " ...done. (3 seconds, 0 min)\n"
          ]
        },
        {
          "metadata": {
            "tags": null
          },
          "name": "stdout",
          "output_type": "stream",
          "text": [
            "Downloading data from https://osf.io/download/5cb47039a3bc970018f1fcbf/ ...\n"
          ]
        },
        {
          "metadata": {
            "tags": null
          },
          "name": "stderr",
          "output_type": "stream",
          "text": [
            " ...done. (2 seconds, 0 min)\n"
          ]
        },
        {
          "metadata": {
            "tags": null
          },
          "name": "stdout",
          "output_type": "stream",
          "text": [
            "Downloading data from https://osf.io/download/5cb46e983992690017108ed8/ ...\n"
          ]
        },
        {
          "metadata": {
            "tags": null
          },
          "name": "stderr",
          "output_type": "stream",
          "text": [
            " ...done. (2 seconds, 0 min)\n"
          ]
        },
        {
          "metadata": {
            "tags": null
          },
          "name": "stdout",
          "output_type": "stream",
          "text": [
            "Downloading data from https://osf.io/download/5c8ff3b92286e80017c41a8e/ ...\n"
          ]
        },
        {
          "metadata": {
            "tags": null
          },
          "name": "stderr",
          "output_type": "stream",
          "text": [
            " ...done. (4 seconds, 0 min)\n"
          ]
        },
        {
          "metadata": {
            "tags": null
          },
          "name": "stdout",
          "output_type": "stream",
          "text": [
            "Downloading data from https://osf.io/download/5c8ff3b92286e80018c3e3e0/ ...\n"
          ]
        },
        {
          "metadata": {
            "tags": null
          },
          "name": "stderr",
          "output_type": "stream",
          "text": [
            " ...done. (3 seconds, 0 min)\n"
          ]
        },
        {
          "metadata": {
            "tags": null
          },
          "name": "stdout",
          "output_type": "stream",
          "text": [
            "Downloading data from https://osf.io/download/5c8ff3ba2286e80016c3c325/ ...\n"
          ]
        },
        {
          "metadata": {
            "tags": null
          },
          "name": "stderr",
          "output_type": "stream",
          "text": [
            " ...done. (3 seconds, 0 min)\n"
          ]
        },
        {
          "metadata": {
            "tags": null
          },
          "name": "stdout",
          "output_type": "stream",
          "text": [
            "Downloading data from https://osf.io/download/5c8ff3bd2286e80017c41a9e/ ...\n"
          ]
        },
        {
          "metadata": {
            "tags": null
          },
          "name": "stderr",
          "output_type": "stream",
          "text": [
            " ...done. (3 seconds, 0 min)\n"
          ]
        },
        {
          "metadata": {
            "tags": null
          },
          "name": "stdout",
          "output_type": "stream",
          "text": [
            "Downloading data from https://osf.io/download/5cb4700bf2be3c001801f9c3/ ...\n"
          ]
        },
        {
          "metadata": {
            "tags": null
          },
          "name": "stderr",
          "output_type": "stream",
          "text": [
            " ...done. (2 seconds, 0 min)\n"
          ]
        },
        {
          "metadata": {
            "tags": null
          },
          "name": "stdout",
          "output_type": "stream",
          "text": [
            "Downloading data from https://osf.io/download/5cb46e22f2be3c0017056b52/ ...\n"
          ]
        },
        {
          "metadata": {
            "tags": null
          },
          "name": "stderr",
          "output_type": "stream",
          "text": [
            " ...done. (3 seconds, 0 min)\n"
          ]
        },
        {
          "metadata": {
            "tags": null
          },
          "name": "stdout",
          "output_type": "stream",
          "text": [
            "Downloading data from https://osf.io/download/5cb47019a3bc970017efe457/ ...\n"
          ]
        },
        {
          "metadata": {
            "tags": null
          },
          "name": "stderr",
          "output_type": "stream",
          "text": [
            " ...done. (3 seconds, 0 min)\n"
          ]
        },
        {
          "metadata": {
            "tags": null
          },
          "name": "stdout",
          "output_type": "stream",
          "text": [
            "Downloading data from https://osf.io/download/5cb46e1fa3bc970018f1f9f5/ ...\n"
          ]
        },
        {
          "metadata": {
            "tags": null
          },
          "name": "stderr",
          "output_type": "stream",
          "text": [
            " ...done. (3 seconds, 0 min)\n"
          ]
        },
        {
          "metadata": {
            "tags": null
          },
          "name": "stdout",
          "output_type": "stream",
          "text": [
            "Downloading data from https://osf.io/download/5cb470313992690018133d6d/ ...\n"
          ]
        },
        {
          "metadata": {
            "tags": null
          },
          "name": "stderr",
          "output_type": "stream",
          "text": [
            " ...done. (5 seconds, 0 min)\n"
          ]
        },
        {
          "metadata": {
            "tags": null
          },
          "name": "stdout",
          "output_type": "stream",
          "text": [
            "Downloading data from https://osf.io/download/5cb46e85f2be3c001601dc65/ ...\n"
          ]
        },
        {
          "metadata": {
            "tags": null
          },
          "name": "stderr",
          "output_type": "stream",
          "text": [
            " ...done. (5 seconds, 0 min)\n"
          ]
        },
        {
          "metadata": {
            "tags": null
          },
          "name": "stdout",
          "output_type": "stream",
          "text": [
            "Downloading data from https://osf.io/download/5c8ff3be4712b400193b5bab/ ...\n"
          ]
        },
        {
          "metadata": {
            "tags": null
          },
          "name": "stderr",
          "output_type": "stream",
          "text": [
            " ...done. (3 seconds, 0 min)\n"
          ]
        },
        {
          "metadata": {
            "tags": null
          },
          "name": "stdout",
          "output_type": "stream",
          "text": [
            "Downloading data from https://osf.io/download/5c8ff3bf2286e80017c41aa8/ ...\n"
          ]
        },
        {
          "metadata": {
            "tags": null
          },
          "name": "stderr",
          "output_type": "stream",
          "text": [
            " ...done. (3 seconds, 0 min)\n"
          ]
        },
        {
          "metadata": {
            "tags": null
          },
          "name": "stdout",
          "output_type": "stream",
          "text": [
            "Downloading data from https://osf.io/download/5c8ff3be4712b4001a3b55c4/ ...\n"
          ]
        },
        {
          "metadata": {
            "tags": null
          },
          "name": "stderr",
          "output_type": "stream",
          "text": [
            " ...done. (4 seconds, 0 min)\n"
          ]
        },
        {
          "metadata": {
            "tags": null
          },
          "name": "stdout",
          "output_type": "stream",
          "text": [
            "Downloading data from https://osf.io/download/5c8ff3c12286e80017c41ab1/ ...\n"
          ]
        },
        {
          "metadata": {
            "tags": null
          },
          "name": "stderr",
          "output_type": "stream",
          "text": [
            " ...done. (4 seconds, 0 min)\n"
          ]
        },
        {
          "metadata": {
            "tags": null
          },
          "name": "stdout",
          "output_type": "stream",
          "text": [
            "Downloading data from https://osf.io/download/5c8ff3c34712b400173b5362/ ...\n"
          ]
        },
        {
          "metadata": {
            "tags": null
          },
          "name": "stderr",
          "output_type": "stream",
          "text": [
            " ...done. (4 seconds, 0 min)\n"
          ]
        },
        {
          "metadata": {
            "tags": null
          },
          "name": "stdout",
          "output_type": "stream",
          "text": [
            "Downloading data from https://osf.io/download/5c8ff3c42286e80017c41ab6/ ...\n"
          ]
        },
        {
          "metadata": {
            "tags": null
          },
          "name": "stderr",
          "output_type": "stream",
          "text": [
            " ...done. (4 seconds, 0 min)\n"
          ]
        },
        {
          "metadata": {
            "tags": null
          },
          "name": "stdout",
          "output_type": "stream",
          "text": [
            "Downloading data from https://osf.io/download/5cb47010f2be3c0017056f80/ ...\n"
          ]
        },
        {
          "metadata": {
            "tags": null
          },
          "name": "stderr",
          "output_type": "stream",
          "text": [
            " ...done. (3 seconds, 0 min)\n"
          ]
        },
        {
          "metadata": {
            "tags": null
          },
          "name": "stdout",
          "output_type": "stream",
          "text": [
            "Downloading data from https://osf.io/download/5cb46ea03992690017108ee8/ ...\n"
          ]
        },
        {
          "output_type": "stream",
          "name": "stderr",
          "text": [
            " ...done. (2 seconds, 0 min)\n"
          ]
        },
        {
          "output_type": "stream",
          "name": "stdout",
          "text": [
            "Downloading data from https://osf.io/download/5cb47022f2be3c0017056fb9/ ...\n"
          ]
        },
        {
          "output_type": "stream",
          "name": "stderr",
          "text": [
            " ...done. (3 seconds, 0 min)\n"
          ]
        },
        {
          "output_type": "stream",
          "name": "stdout",
          "text": [
            "Downloading data from https://osf.io/download/5cb46e30353c58001b9cb2f5/ ...\n"
          ]
        },
        {
          "output_type": "stream",
          "name": "stderr",
          "text": [
            " ...done. (3 seconds, 0 min)\n"
          ]
        },
        {
          "output_type": "stream",
          "name": "stdout",
          "text": [
            "Downloading data from https://osf.io/download/5c8ff3c44712b400183b7071/ ...\n"
          ]
        },
        {
          "output_type": "stream",
          "name": "stderr",
          "text": [
            " ...done. (3 seconds, 0 min)\n"
          ]
        },
        {
          "output_type": "stream",
          "name": "stdout",
          "text": [
            "Downloading data from https://osf.io/download/5c8ff3c42286e80017c41abc/ ...\n"
          ]
        },
        {
          "output_type": "stream",
          "name": "stderr",
          "text": [
            " ...done. (3 seconds, 0 min)\n"
          ]
        },
        {
          "output_type": "stream",
          "name": "stdout",
          "text": [
            "Downloading data from https://osf.io/download/5cb4700cf2be3c0017056f70/ ...\n"
          ]
        },
        {
          "output_type": "stream",
          "name": "stderr",
          "text": [
            " ...done. (2 seconds, 0 min)\n"
          ]
        },
        {
          "output_type": "stream",
          "name": "stdout",
          "text": [
            "Downloading data from https://osf.io/download/5cb46e4fa3bc970019f0713b/ ...\n"
          ]
        },
        {
          "output_type": "stream",
          "name": "stderr",
          "text": [
            " ...done. (3 seconds, 0 min)\n"
          ]
        },
        {
          "output_type": "stream",
          "name": "stdout",
          "text": [
            "Downloading data from https://osf.io/download/5cb4702af2be3c001601debb/ ...\n"
          ]
        },
        {
          "output_type": "stream",
          "name": "stderr",
          "text": [
            " ...done. (2 seconds, 0 min)\n"
          ]
        },
        {
          "output_type": "stream",
          "name": "stdout",
          "text": [
            "Downloading data from https://osf.io/download/5cb46e75353c58001a9b331b/ ...\n"
          ]
        },
        {
          "output_type": "stream",
          "name": "stderr",
          "text": [
            " ...done. (2 seconds, 0 min)\n"
          ]
        },
        {
          "output_type": "stream",
          "name": "stdout",
          "text": [
            "Downloading data from https://osf.io/download/5c8ff3c7a743a90018606e5f/ ...\n"
          ]
        },
        {
          "output_type": "stream",
          "name": "stderr",
          "text": [
            " ...done. (2 seconds, 0 min)\n"
          ]
        },
        {
          "output_type": "stream",
          "name": "stdout",
          "text": [
            "Downloading data from https://osf.io/download/5c8ff3c9a743a90017608120/ ...\n"
          ]
        },
        {
          "output_type": "stream",
          "name": "stderr",
          "text": [
            " ...done. (2 seconds, 0 min)\n"
          ]
        },
        {
          "output_type": "stream",
          "name": "stdout",
          "text": [
            "Downloading data from https://osf.io/download/5cb47019f2be3c0019030945/ ...\n"
          ]
        },
        {
          "output_type": "stream",
          "name": "stderr",
          "text": [
            " ...done. (3 seconds, 0 min)\n"
          ]
        },
        {
          "output_type": "stream",
          "name": "stdout",
          "text": [
            "Downloading data from https://osf.io/download/5cb46e5ba3bc97001aeff72b/ ...\n"
          ]
        },
        {
          "output_type": "stream",
          "name": "stderr",
          "text": [
            " ...done. (1 seconds, 0 min)\n"
          ]
        },
        {
          "output_type": "stream",
          "name": "stdout",
          "text": [
            "Downloading data from https://osf.io/download/5cb4702cf2be3c0017056fdb/ ...\n"
          ]
        },
        {
          "output_type": "stream",
          "name": "stderr",
          "text": [
            " ...done. (3 seconds, 0 min)\n"
          ]
        },
        {
          "output_type": "stream",
          "name": "stdout",
          "text": [
            "Downloading data from https://osf.io/download/5cb46e4b353c5800199ac78f/ ...\n"
          ]
        },
        {
          "output_type": "stream",
          "name": "stderr",
          "text": [
            " ...done. (3 seconds, 0 min)\n"
          ]
        },
        {
          "output_type": "stream",
          "name": "stdout",
          "text": [
            "Downloading data from https://osf.io/download/5cb4701a39926900171090bb/ ...\n"
          ]
        },
        {
          "output_type": "stream",
          "name": "stderr",
          "text": [
            " ...done. (3 seconds, 0 min)\n"
          ]
        },
        {
          "output_type": "stream",
          "name": "stdout",
          "text": [
            "Downloading data from https://osf.io/download/5cb46ea7353c58001b9cb3ac/ ...\n"
          ]
        },
        {
          "output_type": "stream",
          "name": "stderr",
          "text": [
            " ...done. (3 seconds, 0 min)\n"
          ]
        },
        {
          "output_type": "stream",
          "name": "stdout",
          "text": [
            "Downloading data from https://osf.io/download/5cb47010a3bc970019f0735c/ ...\n"
          ]
        },
        {
          "output_type": "stream",
          "name": "stderr",
          "text": [
            " ...done. (3 seconds, 0 min)\n"
          ]
        },
        {
          "output_type": "stream",
          "name": "stdout",
          "text": [
            "Downloading data from https://osf.io/download/5cb46e8e3992690017108ed0/ ...\n"
          ]
        },
        {
          "output_type": "stream",
          "name": "stderr",
          "text": [
            " ...done. (3 seconds, 0 min)\n"
          ]
        },
        {
          "output_type": "stream",
          "name": "stdout",
          "text": [
            "Downloading data from https://osf.io/download/5cb470423992690018133d92/ ...\n"
          ]
        },
        {
          "output_type": "stream",
          "name": "stderr",
          "text": [
            " ...done. (2 seconds, 0 min)\n"
          ]
        },
        {
          "output_type": "stream",
          "name": "stdout",
          "text": [
            "Downloading data from https://osf.io/download/5cb46e46a3bc970018f1fa36/ ...\n"
          ]
        },
        {
          "output_type": "stream",
          "name": "stderr",
          "text": [
            " ...done. (2 seconds, 0 min)\n"
          ]
        },
        {
          "output_type": "stream",
          "name": "stdout",
          "text": [
            "Downloading data from https://osf.io/download/5cb4700df2be3c001801f9c8/ ...\n"
          ]
        },
        {
          "output_type": "stream",
          "name": "stderr",
          "text": [
            " ...done. (2 seconds, 0 min)\n"
          ]
        },
        {
          "output_type": "stream",
          "name": "stdout",
          "text": [
            "Downloading data from https://osf.io/download/5cb46e4f353c58001a9b32e9/ ...\n"
          ]
        },
        {
          "output_type": "stream",
          "name": "stderr",
          "text": [
            " ...done. (3 seconds, 0 min)\n"
          ]
        },
        {
          "output_type": "stream",
          "name": "stdout",
          "text": [
            "Downloading data from https://osf.io/download/5cb4702ff2be3c00190309b0/ ...\n"
          ]
        },
        {
          "output_type": "stream",
          "name": "stderr",
          "text": [
            " ...done. (1 seconds, 0 min)\n"
          ]
        },
        {
          "output_type": "stream",
          "name": "stdout",
          "text": [
            "Downloading data from https://osf.io/download/5cb46e8af2be3c0017056be0/ ...\n"
          ]
        },
        {
          "output_type": "stream",
          "name": "stderr",
          "text": [
            " ...done. (2 seconds, 0 min)\n"
          ]
        },
        {
          "output_type": "stream",
          "name": "stdout",
          "text": [
            "Downloading data from https://osf.io/download/5cb47047f2be3c001801fa64/ ...\n"
          ]
        },
        {
          "output_type": "stream",
          "name": "stderr",
          "text": [
            " ...done. (2 seconds, 0 min)\n"
          ]
        },
        {
          "output_type": "stream",
          "name": "stdout",
          "text": [
            "Downloading data from https://osf.io/download/5cb46ea43992690017108ef5/ ...\n"
          ]
        },
        {
          "output_type": "stream",
          "name": "stderr",
          "text": [
            " ...done. (3 seconds, 0 min)\n"
          ]
        },
        {
          "output_type": "stream",
          "name": "stdout",
          "text": [
            "Downloading data from https://osf.io/download/5c8ff3c94712b4001a3b55d3/ ...\n"
          ]
        },
        {
          "output_type": "stream",
          "name": "stderr",
          "text": [
            " ...done. (2 seconds, 0 min)\n"
          ]
        },
        {
          "output_type": "stream",
          "name": "stdout",
          "text": [
            "Downloading data from https://osf.io/download/5c8ff3c9a743a9001760811a/ ...\n"
          ]
        },
        {
          "output_type": "stream",
          "name": "stderr",
          "text": [
            " ...done. (2 seconds, 0 min)\n"
          ]
        },
        {
          "output_type": "stream",
          "name": "stdout",
          "text": [
            "Downloading data from https://osf.io/download/5c8ff3ca4712b400183b707a/ ...\n"
          ]
        },
        {
          "output_type": "stream",
          "name": "stderr",
          "text": [
            " ...done. (2 seconds, 0 min)\n"
          ]
        },
        {
          "output_type": "stream",
          "name": "stdout",
          "text": [
            "Downloading data from https://osf.io/download/5c8ff3cc2286e80017c41adc/ ...\n"
          ]
        },
        {
          "output_type": "stream",
          "name": "stderr",
          "text": [
            " ...done. (3 seconds, 0 min)\n"
          ]
        },
        {
          "output_type": "stream",
          "name": "stdout",
          "text": [
            "Downloading data from https://osf.io/download/5cb47027f2be3c0017056fd0/ ...\n"
          ]
        },
        {
          "output_type": "stream",
          "name": "stderr",
          "text": [
            " ...done. (4 seconds, 0 min)\n"
          ]
        },
        {
          "output_type": "stream",
          "name": "stdout",
          "text": [
            "Downloading data from https://osf.io/download/5cb46e38a3bc970018f1fa25/ ...\n"
          ]
        },
        {
          "output_type": "stream",
          "name": "stderr",
          "text": [
            " ...done. (3 seconds, 0 min)\n"
          ]
        },
        {
          "output_type": "stream",
          "name": "stdout",
          "text": [
            "Downloading data from https://osf.io/download/5cb47028f2be3c001801fa13/ ...\n"
          ]
        },
        {
          "output_type": "stream",
          "name": "stderr",
          "text": [
            " ...done. (4 seconds, 0 min)\n"
          ]
        },
        {
          "output_type": "stream",
          "name": "stdout",
          "text": [
            "Downloading data from https://osf.io/download/5cb46e2fa3bc970018f1fa11/ ...\n"
          ]
        },
        {
          "output_type": "stream",
          "name": "stderr",
          "text": [
            " ...done. (4 seconds, 0 min)\n"
          ]
        },
        {
          "output_type": "stream",
          "name": "stdout",
          "text": [
            "Downloading data from https://osf.io/download/5cb47050f2be3c0017057062/ ...\n"
          ]
        },
        {
          "output_type": "stream",
          "name": "stderr",
          "text": [
            " ...done. (2 seconds, 0 min)\n"
          ]
        },
        {
          "output_type": "stream",
          "name": "stdout",
          "text": [
            "Downloading data from https://osf.io/download/5cb46e77f2be3c001601dc4f/ ...\n"
          ]
        },
        {
          "output_type": "stream",
          "name": "stderr",
          "text": [
            " ...done. (3 seconds, 0 min)\n"
          ]
        },
        {
          "output_type": "stream",
          "name": "stdout",
          "text": [
            "Downloading data from https://osf.io/download/5cb4701e39926900171090c7/ ...\n"
          ]
        },
        {
          "output_type": "stream",
          "name": "stderr",
          "text": [
            " ...done. (2 seconds, 0 min)\n"
          ]
        },
        {
          "output_type": "stream",
          "name": "stdout",
          "text": [
            "Downloading data from https://osf.io/download/5cb46e82f2be3c001903063e/ ...\n"
          ]
        },
        {
          "output_type": "stream",
          "name": "stderr",
          "text": [
            " ...done. (2 seconds, 0 min)\n"
          ]
        },
        {
          "output_type": "stream",
          "name": "stdout",
          "text": [
            "Downloading data from https://osf.io/download/5cb47015f2be3c001801f9df/ ...\n"
          ]
        },
        {
          "output_type": "stream",
          "name": "stderr",
          "text": [
            " ...done. (3 seconds, 0 min)\n"
          ]
        },
        {
          "output_type": "stream",
          "name": "stdout",
          "text": [
            "Downloading data from https://osf.io/download/5cb46e8139926900160f698a/ ...\n"
          ]
        },
        {
          "output_type": "stream",
          "name": "stderr",
          "text": [
            " ...done. (3 seconds, 0 min)\n"
          ]
        },
        {
          "output_type": "stream",
          "name": "stdout",
          "text": [
            "Downloading data from https://osf.io/download/5cb47013f2be3c0019030935/ ...\n"
          ]
        },
        {
          "output_type": "stream",
          "name": "stderr",
          "text": [
            " ...done. (2 seconds, 0 min)\n"
          ]
        },
        {
          "output_type": "stream",
          "name": "stdout",
          "text": [
            "Downloading data from https://osf.io/download/5cb46e65353c58001b9cb346/ ...\n"
          ]
        },
        {
          "output_type": "stream",
          "name": "stderr",
          "text": [
            " ...done. (2 seconds, 0 min)\n"
          ]
        },
        {
          "output_type": "stream",
          "name": "stdout",
          "text": [
            "Downloading data from https://osf.io/download/5c8ff3cea743a90019606c9f/ ...\n"
          ]
        },
        {
          "output_type": "stream",
          "name": "stderr",
          "text": [
            " ...done. (2 seconds, 0 min)\n"
          ]
        },
        {
          "output_type": "stream",
          "name": "stdout",
          "text": [
            "Downloading data from https://osf.io/download/5c8ff3cea743a90018606e68/ ...\n"
          ]
        },
        {
          "output_type": "stream",
          "name": "stderr",
          "text": [
            " ...done. (3 seconds, 0 min)\n"
          ]
        },
        {
          "output_type": "stream",
          "name": "stdout",
          "text": [
            "Downloading data from https://osf.io/download/5cb47025f2be3c001801fa04/ ...\n"
          ]
        },
        {
          "output_type": "stream",
          "name": "stderr",
          "text": [
            " ...done. (2 seconds, 0 min)\n"
          ]
        },
        {
          "output_type": "stream",
          "name": "stdout",
          "text": [
            "Downloading data from https://osf.io/download/5cb46e09a3bc970018f1f9d8/ ...\n"
          ]
        },
        {
          "output_type": "stream",
          "name": "stderr",
          "text": [
            " ...done. (3 seconds, 0 min)\n"
          ]
        },
        {
          "output_type": "stream",
          "name": "stdout",
          "text": [
            "Downloading data from https://osf.io/download/5cb47044a3bc970018f1fccc/ ...\n"
          ]
        },
        {
          "output_type": "stream",
          "name": "stderr",
          "text": [
            " ...done. (2 seconds, 0 min)\n"
          ]
        },
        {
          "output_type": "stream",
          "name": "stdout",
          "text": [
            "Downloading data from https://osf.io/download/5cb46e29f2be3c0017056b6a/ ...\n"
          ]
        },
        {
          "output_type": "stream",
          "name": "stderr",
          "text": [
            " ...done. (3 seconds, 0 min)\n"
          ]
        },
        {
          "output_type": "stream",
          "name": "stdout",
          "text": [
            "Downloading data from https://osf.io/download/5cb47042f2be3c0017057025/ ...\n"
          ]
        },
        {
          "output_type": "stream",
          "name": "stderr",
          "text": [
            " ...done. (2 seconds, 0 min)\n"
          ]
        },
        {
          "output_type": "stream",
          "name": "stdout",
          "text": [
            "Downloading data from https://osf.io/download/5cb46e64a3bc970019f0714b/ ...\n"
          ]
        },
        {
          "output_type": "stream",
          "name": "stderr",
          "text": [
            " ...done. (2 seconds, 0 min)\n"
          ]
        },
        {
          "output_type": "stream",
          "name": "stdout",
          "text": [
            "Downloading data from https://osf.io/download/5cb4705239926900160f6b74/ ...\n"
          ]
        },
        {
          "output_type": "stream",
          "name": "stderr",
          "text": [
            " ...done. (3 seconds, 0 min)\n"
          ]
        },
        {
          "output_type": "stream",
          "name": "stdout",
          "text": [
            "Downloading data from https://osf.io/download/5cb46e00f2be3c001601dbf3/ ...\n"
          ]
        },
        {
          "output_type": "stream",
          "name": "stderr",
          "text": [
            " ...done. (2 seconds, 0 min)\n"
          ]
        },
        {
          "output_type": "stream",
          "name": "stdout",
          "text": [
            "Downloading data from https://osf.io/download/5cb4704d353c58001b9cb5d8/ ...\n"
          ]
        },
        {
          "output_type": "stream",
          "name": "stderr",
          "text": [
            " ...done. (2 seconds, 0 min)\n"
          ]
        },
        {
          "output_type": "stream",
          "name": "stdout",
          "text": [
            "Downloading data from https://osf.io/download/5cb46dfff2be3c001601dbef/ ...\n"
          ]
        },
        {
          "output_type": "stream",
          "name": "stderr",
          "text": [
            " ...done. (3 seconds, 0 min)\n"
          ]
        },
        {
          "output_type": "stream",
          "name": "stdout",
          "text": [
            "Downloading data from https://osf.io/download/5c8ff3ce2286e80016c3c34b/ ...\n"
          ]
        },
        {
          "output_type": "stream",
          "name": "stderr",
          "text": [
            " ...done. (3 seconds, 0 min)\n"
          ]
        },
        {
          "output_type": "stream",
          "name": "stdout",
          "text": [
            "Downloading data from https://osf.io/download/5c8ff3d12286e80019c3c16f/ ...\n"
          ]
        },
        {
          "output_type": "stream",
          "name": "stderr",
          "text": [
            " ...done. (2 seconds, 0 min)\n"
          ]
        },
        {
          "output_type": "stream",
          "name": "stdout",
          "text": [
            "Downloading data from https://osf.io/download/5cb47010f2be3c0019030921/ ...\n"
          ]
        },
        {
          "output_type": "stream",
          "name": "stderr",
          "text": [
            " ...done. (3 seconds, 0 min)\n"
          ]
        },
        {
          "output_type": "stream",
          "name": "stdout",
          "text": [
            "Downloading data from https://osf.io/download/5cb46e0539926900160f6935/ ...\n"
          ]
        },
        {
          "output_type": "stream",
          "name": "stderr",
          "text": [
            " ...done. (3 seconds, 0 min)\n"
          ]
        },
        {
          "output_type": "stream",
          "name": "stdout",
          "text": [
            "Downloading data from https://osf.io/download/5cb47052353c58001b9cb5e3/ ...\n"
          ]
        },
        {
          "output_type": "stream",
          "name": "stderr",
          "text": [
            " ...done. (2 seconds, 0 min)\n"
          ]
        },
        {
          "output_type": "stream",
          "name": "stdout",
          "text": [
            "Downloading data from https://osf.io/download/5cb46df9f2be3c0017056b01/ ...\n"
          ]
        },
        {
          "output_type": "stream",
          "name": "stderr",
          "text": [
            " ...done. (2 seconds, 0 min)\n"
          ]
        },
        {
          "output_type": "stream",
          "name": "stdout",
          "text": [
            "Downloading data from https://osf.io/download/5cb4700d353c58001b9cb57d/ ...\n"
          ]
        },
        {
          "output_type": "stream",
          "name": "stderr",
          "text": [
            " ...done. (1 seconds, 0 min)\n"
          ]
        },
        {
          "output_type": "stream",
          "name": "stdout",
          "text": [
            "Downloading data from https://osf.io/download/5cb46dfef2be3c0017056b15/ ...\n"
          ]
        },
        {
          "output_type": "stream",
          "name": "stderr",
          "text": [
            " ...done. (3 seconds, 0 min)\n"
          ]
        },
        {
          "output_type": "stream",
          "name": "stdout",
          "text": [
            "Downloading data from https://osf.io/download/5cb470383992690018133d76/ ...\n"
          ]
        },
        {
          "output_type": "stream",
          "name": "stderr",
          "text": [
            " ...done. (2 seconds, 0 min)\n"
          ]
        },
        {
          "output_type": "stream",
          "name": "stdout",
          "text": [
            "Downloading data from https://osf.io/download/5cb46dfc3992690018133a72/ ...\n"
          ]
        },
        {
          "output_type": "stream",
          "name": "stderr",
          "text": [
            " ...done. (4 seconds, 0 min)\n"
          ]
        },
        {
          "output_type": "stream",
          "name": "stdout",
          "text": [
            "Downloading data from https://osf.io/download/5cb4703ef2be3c00190309d3/ ...\n"
          ]
        },
        {
          "output_type": "stream",
          "name": "stderr",
          "text": [
            " ...done. (2 seconds, 0 min)\n"
          ]
        },
        {
          "output_type": "stream",
          "name": "stdout",
          "text": [
            "Downloading data from https://osf.io/download/5cb46e0ea3bc970019f0710c/ ...\n"
          ]
        },
        {
          "output_type": "stream",
          "name": "stderr",
          "text": [
            " ...done. (2 seconds, 0 min)\n"
          ]
        },
        {
          "output_type": "stream",
          "name": "stdout",
          "text": [
            "Downloading data from https://osf.io/download/5c8ff3d3a743a90019606caa/ ...\n"
          ]
        },
        {
          "output_type": "stream",
          "name": "stderr",
          "text": [
            " ...done. (3 seconds, 0 min)\n"
          ]
        },
        {
          "output_type": "stream",
          "name": "stdout",
          "text": [
            "Downloading data from https://osf.io/download/5c8ff3d34712b400193b5bc7/ ...\n"
          ]
        },
        {
          "output_type": "stream",
          "name": "stderr",
          "text": [
            " ...done. (3 seconds, 0 min)\n"
          ]
        },
        {
          "output_type": "stream",
          "name": "stdout",
          "text": [
            "Downloading data from https://osf.io/download/5c8ff3d22286e80017c41af2/ ...\n"
          ]
        },
        {
          "output_type": "stream",
          "name": "stderr",
          "text": [
            " ...done. (3 seconds, 0 min)\n"
          ]
        },
        {
          "output_type": "stream",
          "name": "stdout",
          "text": [
            "Downloading data from https://osf.io/download/5c8ff3d52286e80017c41afe/ ...\n"
          ]
        },
        {
          "output_type": "stream",
          "name": "stderr",
          "text": [
            " ...done. (2 seconds, 0 min)\n"
          ]
        },
        {
          "output_type": "stream",
          "name": "stdout",
          "text": [
            "Downloading data from https://osf.io/download/5cb4704ef2be3c001801fa79/ ...\n"
          ]
        },
        {
          "output_type": "stream",
          "name": "stderr",
          "text": [
            " ...done. (2 seconds, 0 min)\n"
          ]
        },
        {
          "output_type": "stream",
          "name": "stdout",
          "text": [
            "Downloading data from https://osf.io/download/5cb46e7339926900190fad1a/ ...\n"
          ]
        },
        {
          "output_type": "stream",
          "name": "stderr",
          "text": [
            " ...done. (3 seconds, 0 min)\n"
          ]
        },
        {
          "output_type": "stream",
          "name": "stdout",
          "text": [
            "Downloading data from https://osf.io/download/5cb4700fa3bc97001aeff8f0/ ...\n"
          ]
        },
        {
          "output_type": "stream",
          "name": "stderr",
          "text": [
            " ...done. (3 seconds, 0 min)\n"
          ]
        },
        {
          "output_type": "stream",
          "name": "stdout",
          "text": [
            "Downloading data from https://osf.io/download/5cb46e16f2be3c0017056b3e/ ...\n"
          ]
        },
        {
          "output_type": "stream",
          "name": "stderr",
          "text": [
            " ...done. (2 seconds, 0 min)\n"
          ]
        },
        {
          "output_type": "stream",
          "name": "stdout",
          "text": [
            "Downloading data from https://osf.io/download/5c8ff3d84712b400183b708c/ ...\n"
          ]
        },
        {
          "output_type": "stream",
          "name": "stderr",
          "text": [
            " ...done. (3 seconds, 0 min)\n"
          ]
        },
        {
          "output_type": "stream",
          "name": "stdout",
          "text": [
            "Downloading data from https://osf.io/download/5c8ff3d7a743a90017608138/ ...\n"
          ]
        },
        {
          "output_type": "stream",
          "name": "stderr",
          "text": [
            " ...done. (3 seconds, 0 min)\n"
          ]
        },
        {
          "output_type": "stream",
          "name": "stdout",
          "text": [
            "Downloading data from https://osf.io/download/5cb4704cf2be3c0017057049/ ...\n"
          ]
        },
        {
          "output_type": "stream",
          "name": "stderr",
          "text": [
            " ...done. (3 seconds, 0 min)\n"
          ]
        },
        {
          "output_type": "stream",
          "name": "stdout",
          "text": [
            "Downloading data from https://osf.io/download/5cb46e34a3bc97001aeff717/ ...\n"
          ]
        },
        {
          "output_type": "stream",
          "name": "stderr",
          "text": [
            " ...done. (3 seconds, 0 min)\n"
          ]
        },
        {
          "output_type": "stream",
          "name": "stdout",
          "text": [
            "Downloading data from https://osf.io/download/5cb470553992690018133dbe/ ...\n"
          ]
        },
        {
          "output_type": "stream",
          "name": "stderr",
          "text": [
            " ...done. (2 seconds, 0 min)\n"
          ]
        },
        {
          "output_type": "stream",
          "name": "stdout",
          "text": [
            "Downloading data from https://osf.io/download/5cb46e29f2be3c001601dc17/ ...\n"
          ]
        },
        {
          "output_type": "stream",
          "name": "stderr",
          "text": [
            " ...done. (4 seconds, 0 min)\n"
          ]
        },
        {
          "output_type": "stream",
          "name": "stdout",
          "text": [
            "Downloading data from https://osf.io/download/5c8ff3d8a743a90019606cb5/ ...\n"
          ]
        },
        {
          "output_type": "stream",
          "name": "stderr",
          "text": [
            " ...done. (2 seconds, 0 min)\n"
          ]
        },
        {
          "output_type": "stream",
          "name": "stdout",
          "text": [
            "Downloading data from https://osf.io/download/5c8ff3d8a743a90018606e75/ ...\n"
          ]
        },
        {
          "output_type": "stream",
          "name": "stderr",
          "text": [
            " ...done. (3 seconds, 0 min)\n"
          ]
        },
        {
          "output_type": "stream",
          "name": "stdout",
          "text": [
            "Downloading data from https://osf.io/download/5c8ff3dba743a90018606e7e/ ...\n"
          ]
        },
        {
          "output_type": "stream",
          "name": "stderr",
          "text": [
            " ...done. (2 seconds, 0 min)\n"
          ]
        },
        {
          "output_type": "stream",
          "name": "stdout",
          "text": [
            "Downloading data from https://osf.io/download/5c8ff3de4712b4001a3b55f4/ ...\n"
          ]
        },
        {
          "output_type": "stream",
          "name": "stderr",
          "text": [
            " ...done. (2 seconds, 0 min)\n"
          ]
        },
        {
          "output_type": "stream",
          "name": "stdout",
          "text": [
            "Downloading data from https://osf.io/download/5cb47017f2be3c0017056f8d/ ...\n"
          ]
        },
        {
          "output_type": "stream",
          "name": "stderr",
          "text": [
            " ...done. (1 seconds, 0 min)\n"
          ]
        },
        {
          "output_type": "stream",
          "name": "stdout",
          "text": [
            "Downloading data from https://osf.io/download/5cb46e13f2be3c0017056b37/ ...\n"
          ]
        },
        {
          "output_type": "stream",
          "name": "stderr",
          "text": [
            " ...done. (2 seconds, 0 min)\n"
          ]
        },
        {
          "output_type": "stream",
          "name": "stdout",
          "text": [
            "Downloading data from https://osf.io/download/5cb4704ca3bc970018f1fcda/ ...\n"
          ]
        },
        {
          "output_type": "stream",
          "name": "stderr",
          "text": [
            " ...done. (2 seconds, 0 min)\n"
          ]
        },
        {
          "output_type": "stream",
          "name": "stdout",
          "text": [
            "Downloading data from https://osf.io/download/5cb46e0b39926900160f693c/ ...\n"
          ]
        },
        {
          "output_type": "stream",
          "name": "stderr",
          "text": [
            " ...done. (3 seconds, 0 min)\n"
          ]
        },
        {
          "output_type": "stream",
          "name": "stdout",
          "text": [
            "Downloading data from https://osf.io/download/5cb4704c3992690018133da6/ ...\n"
          ]
        },
        {
          "output_type": "stream",
          "name": "stderr",
          "text": [
            " ...done. (3 seconds, 0 min)\n"
          ]
        },
        {
          "output_type": "stream",
          "name": "stdout",
          "text": [
            "Downloading data from https://osf.io/download/5cb46e1c3992690018133aa2/ ...\n"
          ]
        },
        {
          "output_type": "stream",
          "name": "stderr",
          "text": [
            " ...done. (2 seconds, 0 min)\n"
          ]
        },
        {
          "output_type": "stream",
          "name": "stdout",
          "text": [
            "Downloading data from https://osf.io/download/5c8ff3dc4712b4001a3b55f0/ ...\n"
          ]
        },
        {
          "output_type": "stream",
          "name": "stderr",
          "text": [
            " ...done. (3 seconds, 0 min)\n"
          ]
        },
        {
          "output_type": "stream",
          "name": "stdout",
          "text": [
            "Downloading data from https://osf.io/download/5c8ff3df2286e80018c3e421/ ...\n"
          ]
        },
        {
          "output_type": "stream",
          "name": "stderr",
          "text": [
            " ...done. (2 seconds, 0 min)\n"
          ]
        },
        {
          "output_type": "stream",
          "name": "stdout",
          "text": [
            "Downloading data from https://osf.io/download/5cb47021353c58001b9cb59f/ ...\n"
          ]
        },
        {
          "output_type": "stream",
          "name": "stderr",
          "text": [
            " ...done. (2 seconds, 0 min)\n"
          ]
        },
        {
          "output_type": "stream",
          "name": "stdout",
          "text": [
            "Downloading data from https://osf.io/download/5cb46e2f353c58001b9cb2f1/ ...\n"
          ]
        },
        {
          "output_type": "stream",
          "name": "stderr",
          "text": [
            " ...done. (3 seconds, 0 min)\n"
          ]
        }
      ],
      "source": [
        "atlas = datasets.fetch_atlas_msdl()\n",
        "atlas_filename = atlas.maps\n",
        "atlas_labels = atlas.labels\n",
        "\n",
        "data = datasets.fetch_development_fmri()"
      ]
    },
    {
      "cell_type": "markdown",
      "metadata": {
        "id": "ooy3UEUTAO5_"
      },
      "source": [
        "Extract signal in each ROI over time using the atlas we just created."
      ]
    },
    {
      "cell_type": "code",
      "execution_count": 14,
      "metadata": {
        "colab": {
          "base_uri": "https://localhost:8080/"
        },
        "id": "jvMbkVS1KDDi",
        "outputId": "7e8cbc23-2bb3-4c75-b3fa-f9262f34e12d"
      },
      "outputs": [
        {
          "metadata": {
            "tags": null
          },
          "name": "stderr",
          "output_type": "stream",
          "text": [
            "/usr/local/lib/python3.10/dist-packages/nilearn/maskers/base_masker.py:268: UserWarning: memory_level is currently set to 0 but a Memory object has been provided. Setting memory_level to 1.\n",
            "  return self.transform_single_imgs(\n"
          ]
        }
      ],
      "source": [
        "# standardize=True means signals in time series signals are shifted to zero mean and scaled to unit variance\n",
        "masker = NiftiMapsMasker(maps_img=atlas_filename, standardize=True, memory='nilearn_cache')\n",
        "\n",
        "time_series = [0] * len(data.func)\n",
        "labels = [0] * len(data.func)\n",
        "\n",
        "for i in range(0, len(data.func)):\n",
        "    sub_num = int(data.phenotypic[i][0][9:]) - 1\n",
        "\n",
        "    ts = masker.fit_transform(data.func[i], confounds=data.confounds[i])\n",
        "    time_series[sub_num] = ts\n",
        "    labels[sub_num] = data.phenotypic[i][3]\n",
        "\n",
        "# Save time series\n",
        "for i in range(len(time_series)):\n",
        "  np.savetxt(f'{time_series_dir}/time_series_{i:04d}.csv', time_series[i], delimiter=',')"
      ]
    },
    {
      "cell_type": "markdown",
      "metadata": {
        "id": "IDt63EC6A1Fe"
      },
      "source": [
        "Calculating partial correlation matrix for each time series and taking the mean. This will serve as the basis for edges in the graphs we create later.\n",
        "\n"
      ]
    },
    {
      "cell_type": "code",
      "execution_count": 15,
      "metadata": {
        "id": "R-mFP1seS-1b"
      },
      "outputs": [],
      "source": [
        "corr_measure = ConnectivityMeasure(kind='correlation')\n",
        "pcorr_measure = ConnectivityMeasure(kind='partial correlation')\n",
        "\n",
        "corr_matrices = corr_measure.fit_transform(time_series)\n",
        "pcorr_matrices = pcorr_measure.fit_transform(time_series)\n",
        "\n",
        "# Get average partial correlation matrix across time series and save\n",
        "avg_pcorr_matrix = np.mean(pcorr_matrices, axis=0)\n",
        "np.savetxt(avg_pcorr_file, avg_pcorr_matrix, delimiter=',')\n",
        "\n",
        "# Save correlation and partial correlation matrices\n",
        "for i in range(0, len(corr_matrices)):\n",
        "    np.savetxt(f'{corr_matrices_dir}/corr_{i:04d}.csv', corr_matrices[i], delimiter=',')\n",
        "    np.savetxt(f'{pcorr_matrices_dir}/pcorr_{i:04d}.csv', pcorr_matrices[i], delimiter=',')\n",
        "\n",
        "# Save labels\n",
        "label_nums = [0 if label == 'child' else 1 for label in labels]\n",
        "np.savetxt(labels_file, np.asarray(label_nums).astype(int), delimiter=',')"
      ]
    },
    {
      "cell_type": "markdown",
      "metadata": {
        "id": "-9exCa_bBaZk"
      },
      "source": [
        "Let's visualize a functional connectome!"
      ]
    },
    {
      "cell_type": "code",
      "execution_count": 16,
      "metadata": {
        "colab": {
          "base_uri": "https://localhost:8080/",
          "height": 909
        },
        "id": "AJ2XHP4JWELu",
        "outputId": "fd799b53-37cf-4f4e-d701-513f9ccc606d"
      },
      "outputs": [
        {
          "output_type": "execute_result",
          "data": {
            "text/plain": [
              "<nilearn.plotting.displays._projectors.OrthoProjector at 0x7fbfd5aa7c10>"
            ]
          },
          "metadata": {},
          "execution_count": 16
        },
        {
          "output_type": "display_data",
          "data": {
            "text/plain": [
              "<Figure size 700x500 with 2 Axes>"
            ],
            "image/png": "[encoded data removed]"
          },
          "metadata": {}
        },
        {
          "output_type": "display_data",
          "data": {
            "text/plain": [
              "<Figure size 660x350 with 5 Axes>"
            ],
            "image/png": "[encoded data removed]"
          },
          "metadata": {}
        }
      ],
      "source": [
        "# Partial correlation matrix\n",
        "plotting.plot_matrix(corr_matrices[0], labels=atlas_labels, colorbar=True, vmax=1, vmin=-0.8)\n",
        "\n",
        "# Connectome over brain schematic\n",
        "coords = atlas.region_coords # Get center coordinates of each ROI\n",
        "plotting.plot_connectome(corr_matrices[0], coords, edge_threshold=\"80%\", colorbar=True)"
      ]
    },
    {
      "cell_type": "markdown",
      "metadata": {
        "id": "jgvh1BjeBoiX"
      },
      "source": [
        "Define a custom class for our dataset.\n",
        "\n",
        "To build the graphs, we load up the partial correlation matrices we calculated earlier. Edges are formed between ROIs and their non-zero correlates.\n",
        "\n",
        "Then we grab our correlation matrices and use them as features for our graphs."
      ]
    },
    {
      "cell_type": "code",
      "execution_count": 17,
      "metadata": {
        "id": "1T4rfkCf8BPJ"
      },
      "outputs": [],
      "source": [
        "from torch_geometric.data import InMemoryDataset, Data\n",
        "import os\n",
        "import torch\n",
        "import numpy as np\n",
        "import networkx as nx\n",
        "\n",
        "class DevDataset(InMemoryDataset):\n",
        "    def __init__(self, root, transform=None, pre_transform=None, neighbors=10):\n",
        "        self.neighbors = neighbors\n",
        "        super().__init__(root, transform, pre_transform)\n",
        "        self.data, self.slices = torch.load(self.processed_paths[0])\n",
        "\n",
        "    @property\n",
        "    def processed_file_names(self):\n",
        "        return ['data.pt']\n",
        "\n",
        "    def process(self):\n",
        "        # Paths of connectivity matrices\n",
        "        corr_path_list = sorted(os.listdir(corr_matrices_dir), key=lambda x: int(x[-8:-4]))\n",
        "        pcorr_path_list = sorted(os.listdir(pcorr_matrices_dir), key=lambda x: int(x[-8:-4]))\n",
        "\n",
        "        graphs = []\n",
        "        labels = torch.from_numpy(np.loadtxt(labels_file, delimiter=','))\n",
        "        for i in range(0, len(corr_path_list)):\n",
        "            corr_matrix_path = os.path.join(corr_matrices_dir, corr_path_list[i])\n",
        "            pcorr_matrix_path = os.path.join(pcorr_matrices_dir, pcorr_path_list[i])\n",
        "\n",
        "            # Pushing partial correlation matrices through the pipeline to get the final Data object\n",
        "            pcorr_matrix_np = np.loadtxt(pcorr_matrix_path, delimiter=',')\n",
        "\n",
        "            index = np.abs(pcorr_matrix_np).argsort(axis=1)\n",
        "            n_rois = pcorr_matrix_np.shape[0]\n",
        "\n",
        "            # Take only the top k correlates to reduce the number of edges\n",
        "            for j in range(n_rois):\n",
        "                for k in range(n_rois - self.neighbors):\n",
        "                    pcorr_matrix_np[j, index[j, k]] = 0\n",
        "                for k in range(n_rois - self.neighbors, n_rois):\n",
        "                    pcorr_matrix_np[j, index[j, k]] = 1\n",
        "\n",
        "            # Create a NetworkX graph from the NumPy matrix\n",
        "            pcorr_matrix_nx = nx.Graph(pcorr_matrix_np)\n",
        "\n",
        "            # Convert NetworkX graph to PyTorch Geometric Data object\n",
        "            pcorr_matrix_data = from_networkx(pcorr_matrix_nx)\n",
        "\n",
        "            # Correlation matrix which will serve as our features\n",
        "            corr_matrix_np = np.loadtxt(corr_matrix_path, delimiter=',')\n",
        "            pcorr_matrix_data.x = torch.tensor(corr_matrix_np).float()\n",
        "            pcorr_matrix_data.y = labels[i].type(torch.LongTensor)\n",
        "\n",
        "            # Add to the running list of all dataset items\n",
        "            graphs.append(pcorr_matrix_data)\n",
        "\n",
        "        data, slices = self.collate(graphs)\n",
        "        torch.save((data, slices), self.processed_paths[0])\n"
      ]
    },
    {
      "cell_type": "code",
      "execution_count": 18,
      "metadata": {
        "id": "cITHsMtW8L0k"
      },
      "outputs": [],
      "source": [
        "dataset = DevDataset('dataset_pyg')\n",
        "dataset = dataset.shuffle()\n",
        "\n",
        "# Train/test split (80-20)\n",
        "train_share = int(len(dataset) * 0.8)\n",
        "\n",
        "train_dataset = dataset[:train_share]\n",
        "test_dataset = dataset[train_share:]"
      ]
    },
    {
      "cell_type": "markdown",
      "metadata": {
        "id": "EMbVI0sZBFEz"
      },
      "source": [
        "# **Model definition**\n",
        "\n",
        "Define simplified [cGCN](https://www.ncbi.nlm.nih.gov/pmc/articles/PMC7935029/) model class.\n",
        "\n",
        "In the cGCN paper, the authors construct a sequence of graphs for each subject, each corresponding to a different step in their time series. We take the partial correlation matrix for all subjects and pick the k most influential connections as edges for each ROI.\n",
        "\n",
        "![](https://i.imgur.com/uDalqlP.png)\n",
        "\n",
        "*Wang et al.*"
      ]
    },
    {
      "cell_type": "code",
      "execution_count": 41,
      "metadata": {
        "id": "ePrFGWtNBIVF"
      },
      "outputs": [],
      "source": [
        "class GraphNetwork(torch.nn.Module):\n",
        "    def __init__(self, hidden_channels):\n",
        "        super().__init__()\n",
        "\n",
        "        # Initialize MLPs used by EdgeConv layers\n",
        "        self.mlp1 = Sequential(Linear(2 * dataset.num_node_features, hidden_channels), ReLU())\n",
        "        self.mlp2 = Sequential(torch.nn.Linear(2 * hidden_channels, hidden_channels), ReLU())\n",
        "        self.mlp3 = Sequential(torch.nn.Linear(2 * hidden_channels, hidden_channels), ReLU())\n",
        "\n",
        "        # Initialize EdgeConv layers\n",
        "        self.conv1 = EdgeConv(self.mlp1, aggr='max')\n",
        "        self.conv2 = EdgeConv(self.mlp2, aggr='max')\n",
        "        self.conv3 = EdgeConv(self.mlp3, aggr='max')\n",
        "\n",
        "        self.bn1 = torch.nn.BatchNorm1d(hidden_channels)\n",
        "        self.bn2 = torch.nn.BatchNorm1d(hidden_channels)\n",
        "        self.bn3 = torch.nn.BatchNorm1d(hidden_channels)\n",
        "\n",
        "        self.linear = torch.nn.Linear(hidden_channels, dataset.num_classes)\n",
        "\n",
        "    def forward(self, data):\n",
        "        \"\"\" Performs a forward pass on our simplified cGCN.\n",
        "\n",
        "        Parameters:\n",
        "        data (Data): Graph being passed into network.\n",
        "\n",
        "        Returns:\n",
        "        torch.Tensor (N x 2): Probability distribution over class labels.\n",
        "        \"\"\"\n",
        "        x, edge_index, batch = data.x, data.edge_index, data.batch\n",
        "\n",
        "        x = self.conv1(x, edge_index)\n",
        "        x = self.bn1(x)\n",
        "        x = F.relu(x)\n",
        "\n",
        "        x = self.conv2(x, edge_index)\n",
        "        x = self.bn2(x)\n",
        "        x = F.relu(x)\n",
        "\n",
        "        x = self.conv3(x, edge_index)\n",
        "        x = self.bn3(x)\n",
        "\n",
        "        x = global_mean_pool(x, batch)\n",
        "        x = self.linear(x)\n",
        "        x = F.softmax(x, dim=1)\n",
        "\n",
        "        return x"
      ]
    },
    {
      "cell_type": "markdown",
      "metadata": {
        "id": "QDGSZT72BPGh"
      },
      "source": [
        "# Training\n",
        "\n",
        "Final training steps for our model."
      ]
    },
    {
      "cell_type": "code",
      "source": [
        "import torch\n",
        "\n",
        "# Define the device (CPU or GPU)\n",
        "device = torch.device(\"cuda\" if torch.cuda.is_available() else \"cpu\")"
      ],
      "metadata": {
        "id": "1cWQso9Wp8FI"
      },
      "execution_count": 42,
      "outputs": []
    },
    {
      "cell_type": "code",
      "execution_count": 43,
      "metadata": {
        "id": "FyLSRBySBQw4",
        "colab": {
          "base_uri": "https://localhost:8080/",
          "height": 1000
        },
        "outputId": "ee75857e-fd4a-4fe4-9756-33ed11c72a7e"
      },
      "outputs": [
        {
          "output_type": "stream",
          "name": "stderr",
          "text": [
            "/usr/local/lib/python3.10/dist-packages/torch_geometric/deprecation.py:26: UserWarning: 'data.DataLoader' is deprecated, use 'loader.DataLoader' instead\n",
            "  warnings.warn(out)\n",
            "/usr/local/lib/python3.10/dist-packages/torch_geometric/warnings.py:11: UserWarning: The usage of `scatter(reduce='max')` can be accelerated via the 'torch-scatter' package, but it was not found\n",
            "  warnings.warn(message)\n"
          ]
        },
        {
          "output_type": "stream",
          "name": "stdout",
          "text": [
            "Epoch: 01, Loss: -0.6521, Train: 80.65%, Test: 70.97%\n",
            "Epoch: 02, Loss: -0.8169, Train: 83.87%, Test: 70.97%\n",
            "Epoch: 03, Loss: -0.9260, Train: 81.45%, Test: 70.97%\n",
            "Epoch: 04, Loss: -0.8899, Train: 81.45%, Test: 70.97%\n",
            "Epoch: 05, Loss: -0.9383, Train: 85.48%, Test: 74.19%\n",
            "Epoch: 06, Loss: -0.9455, Train: 92.74%, Test: 77.42%\n",
            "Epoch: 07, Loss: -0.9961, Train: 90.32%, Test: 70.97%\n",
            "Epoch: 08, Loss: -0.9599, Train: 96.77%, Test: 74.19%\n",
            "Epoch: 09, Loss: -0.9880, Train: 98.39%, Test: 83.87%\n",
            "Epoch: 10, Loss: -0.9915, Train: 99.19%, Test: 90.32%\n",
            "Epoch: 11, Loss: -0.9619, Train: 99.19%, Test: 93.55%\n",
            "Epoch: 12, Loss: -0.9986, Train: 99.19%, Test: 93.55%\n",
            "Epoch: 13, Loss: -0.9992, Train: 99.19%, Test: 93.55%\n",
            "Epoch: 14, Loss: -0.9985, Train: 99.19%, Test: 93.55%\n",
            "Epoch: 15, Loss: -0.9991, Train: 99.19%, Test: 93.55%\n",
            "Epoch: 16, Loss: -0.9994, Train: 99.19%, Test: 96.77%\n",
            "Epoch: 17, Loss: -0.9623, Train: 99.19%, Test: 100.00%\n",
            "Epoch: 18, Loss: -0.9996, Train: 99.19%, Test: 93.55%\n",
            "Epoch: 19, Loss: -0.9998, Train: 99.19%, Test: 93.55%\n",
            "Epoch: 20, Loss: -0.9999, Train: 99.19%, Test: 93.55%\n",
            "Epoch: 21, Loss: -0.9986, Train: 99.19%, Test: 96.77%\n",
            "Epoch: 22, Loss: -0.9643, Train: 99.19%, Test: 96.77%\n",
            "Epoch: 23, Loss: -0.9643, Train: 99.19%, Test: 96.77%\n",
            "Epoch: 24, Loss: -0.9993, Train: 99.19%, Test: 96.77%\n",
            "Epoch: 25, Loss: -0.9592, Train: 99.19%, Test: 96.77%\n",
            "Epoch: 26, Loss: -0.9995, Train: 98.39%, Test: 96.77%\n",
            "Epoch: 27, Loss: -0.9640, Train: 99.19%, Test: 96.77%\n",
            "Epoch: 28, Loss: -0.9998, Train: 99.19%, Test: 96.77%\n",
            "Epoch: 29, Loss: -0.9999, Train: 99.19%, Test: 93.55%\n",
            "Epoch: 30, Loss: -0.9631, Train: 99.19%, Test: 93.55%\n"
          ]
        },
        {
          "output_type": "display_data",
          "data": {
            "text/plain": [
              "<Figure size 640x480 with 1 Axes>"
            ],
            "image/png": "[encoded data removed]"
          },
          "metadata": {}
        }
      ],
      "source": [
        "def train(model, loss_fn, device, data_loader, optimizer):\n",
        "    \"\"\" Performs an epoch of model training.\n",
        "\n",
        "    Parameters:\n",
        "    model (nn.Module): Model to be trained.\n",
        "    loss_fn (nn.Module): Loss function for training.\n",
        "    device (torch.Device): Device used for training.\n",
        "    data_loader (torch.utils.data.DataLoader): Data loader containing all batches.\n",
        "    optimizer (torch.optim.Optimizer): Optimizer used to update model.\n",
        "\n",
        "    Returns:\n",
        "    float: Total loss for epoch.\n",
        "    \"\"\"\n",
        "    model.train()\n",
        "    loss = 0\n",
        "\n",
        "    for batch in data_loader:\n",
        "        batch = batch.to(device)\n",
        "\n",
        "        optimizer.zero_grad()\n",
        "        out = model(batch)\n",
        "\n",
        "        loss = loss_fn(out, batch.y)\n",
        "\n",
        "        loss.backward()\n",
        "        optimizer.step()\n",
        "\n",
        "    return loss.item()\n",
        "\n",
        "def eval(model, device, loader):\n",
        "    \"\"\" Calculate accuracy for all examples in a DataLoader.\n",
        "\n",
        "    Parameters:\n",
        "    model (nn.Module): Model to be evaluated.\n",
        "    device (torch.Device): Device used for training.\n",
        "    loader (torch.utils.data.DataLoader): DataLoader containing examples to test.\n",
        "    \"\"\"\n",
        "    model.eval()\n",
        "    cor = 0\n",
        "    tot = 0\n",
        "\n",
        "    for batch in loader:\n",
        "        batch = batch.to(device)\n",
        "\n",
        "        with torch.no_grad():\n",
        "            pred = torch.argmax(model(batch), 1)\n",
        "\n",
        "        y = batch.y\n",
        "        cor += (pred == y).sum()\n",
        "        tot += pred.shape[0]\n",
        "\n",
        "    return cor / tot\n",
        "\n",
        "\n",
        "\n",
        "\n",
        "    device = torch.device(\"cuda\" if torch.cuda.is_available() else \"cpu\")\n",
        "\n",
        "model = GraphNetwork(32).to(device)\n",
        "optimizer = torch.optim.Adam(model.parameters(), lr=0.01)\n",
        "\n",
        "train_loader = DataLoader(train_dataset, batch_size=32, shuffle=True)\n",
        "test_loader = DataLoader(test_dataset, batch_size=32, shuffle=False)\n",
        "\n",
        "loss_fn = torch.nn.NLLLoss()\n",
        "losses = []\n",
        "\n",
        "for epoch in range(0, 30):\n",
        "    loss = train(model, loss_fn, device, train_loader, optimizer)\n",
        "    train_result = eval(model, device, train_loader)\n",
        "    test_result = eval(model, device, test_loader)\n",
        "\n",
        "    losses.append(loss)\n",
        "\n",
        "    print(f'Epoch: {epoch + 1:02d}, '\n",
        "          f'Loss: {loss:.4f}, '\n",
        "          f'Train: {100 * train_result:.2f}%, '\n",
        "          f'Test: {100 * test_result:.2f}%')\n",
        "\n",
        "plt.plot(losses)\n",
        "plt.show()"
      ]
    },
    {
      "cell_type": "code",
      "source": [
        "from sklearn.metrics import confusion_matrix, classification_report\n",
        "\n",
        "# Evaluate the model on the test dataset to get predictions and true labels\n",
        "def evaluate_model(model, device, loader):\n",
        "    model.eval()\n",
        "    predictions = []\n",
        "    true_labels = []\n",
        "\n",
        "    for batch in loader:\n",
        "        batch = batch.to(device)\n",
        "\n",
        "        with torch.no_grad():\n",
        "            pred = torch.argmax(model(batch), 1)\n",
        "\n",
        "        predictions.extend(pred.cpu().numpy())\n",
        "        true_labels.extend(batch.y.cpu().numpy())\n",
        "\n",
        "    return predictions, true_labels\n",
        "\n",
        "# Get predictions and true labels\n",
        "test_predictions, test_labels = evaluate_model(model, device, test_loader)\n",
        "\n",
        "# Calculate confusion matrix\n",
        "conf_matrix = confusion_matrix(test_labels, test_predictions)\n",
        "\n",
        "# Generate classification report\n",
        "class_report = classification_report(test_labels, test_predictions)\n",
        "\n",
        "# Print confusion matrix and classification report\n",
        "print(\"Confusion Matrix:\")\n",
        "print(conf_matrix)\n",
        "\n",
        "print(\"\\nClassification Report:\")\n",
        "print(class_report)\n"
      ],
      "metadata": {
        "id": "_ZHUJTXWHCR9",
        "colab": {
          "base_uri": "https://localhost:8080/"
        },
        "outputId": "3aca7a49-c18e-4c8f-e01f-30facf058b03"
      },
      "execution_count": 44,
      "outputs": [
        {
          "output_type": "stream",
          "name": "stdout",
          "text": [
            "Confusion Matrix:\n",
            "[[22  0]\n",
            " [ 2  7]]\n",
            "\n",
            "Classification Report:\n",
            "              precision    recall  f1-score   support\n",
            "\n",
            "           0       0.92      1.00      0.96        22\n",
            "           1       1.00      0.78      0.88         9\n",
            "\n",
            "    accuracy                           0.94        31\n",
            "   macro avg       0.96      0.89      0.92        31\n",
            "weighted avg       0.94      0.94      0.93        31\n",
            "\n"
          ]
        }
      ]
    },
    {
      "cell_type": "code",
      "source": [
        "classes = ['Class 0', 'Class 1']\n",
        "\n",
        "# Plot confusion matrix\n",
        "plt.figure(figsize=(8, 6))\n",
        "sns.set(font_scale=1.2)  # Set font scale for better readability\n",
        "sns.heatmap(conf_matrix, annot=True, fmt='d', cmap='Blues', xticklabels=classes, yticklabels=classes)\n",
        "plt.xlabel('Predicted')\n",
        "plt.ylabel('True')\n",
        "plt.title('Confusion Matrix')\n",
        "plt.show()"
      ],
      "metadata": {
        "id": "qVE2iAFTHCc7",
        "colab": {
          "base_uri": "https://localhost:8080/",
          "height": 578
        },
        "outputId": "bb2b4b24-e43a-4c15-ee75-b046d7d56497"
      },
      "execution_count": 45,
      "outputs": [
        {
          "output_type": "display_data",
          "data": {
            "text/plain": [
              "<Figure size 800x600 with 2 Axes>"
            ],
            "image/png": "[encoded data removed]"
          },
          "metadata": {}
        }
      ]
    },
    {
      "cell_type": "markdown",
      "source": [
        "**MULTINET GRAPH**"
      ],
      "metadata": {
        "id": "TWDsvXO40fbN"
      }
    },
    {
      "cell_type": "code",
      "source": [
        "class MultinetGraphNetwork(torch.nn.Module):\n",
        "    def __init__(self, hidden_channels, num_networks):\n",
        "        super().__init__()\n",
        "\n",
        "        self.num_networks = num_networks\n",
        "        self.gcn_branches = torch.nn.ModuleList()\n",
        "\n",
        "        for _ in range(num_networks):\n",
        "            # Initialize MLPs used by EdgeConv layers for each branch\n",
        "            mlp = Sequential(\n",
        "                Linear(2 * dataset.num_node_features, hidden_channels),\n",
        "                ReLU(),  # ReLU activation should be part of the Sequential module\n",
        "            )\n",
        "            conv = EdgeConv(mlp, aggr='max')\n",
        "            bn = torch.nn.BatchNorm1d(hidden_channels)\n",
        "\n",
        "            self.gcn_branches.append(conv)  # Only add the conv layer to the branches\n",
        "            self.gcn_branches.append(bn)     # Add the BatchNorm layer\n",
        "            self.gcn_branches.append(mlp)    # Add the MLP module as well\n",
        "\n",
        "        self.linear = torch.nn.Linear(hidden_channels * num_networks, dataset.num_classes)\n",
        "\n",
        "    def forward(self, data):\n",
        "        x, edge_index, batch = data.x, data.edge_index, data.batch\n",
        "        branch_outputs = []\n",
        "\n",
        "        for i in range(0, len(self.gcn_branches), 3):  # Iterate with step 3\n",
        "            conv = self.gcn_branches[i]\n",
        "            bn = self.gcn_branches[i+1]\n",
        "            mlp = self.gcn_branches[i+2]\n",
        "\n",
        "            x_temp = x.clone()  # Create a copy of node features for each branch\n",
        "            x_temp = conv(x_temp, edge_index)\n",
        "            x_temp = bn(x_temp)\n",
        "            x_temp = F.relu(x_temp)\n",
        "\n",
        "            branch_outputs.append(x_temp)\n",
        "\n",
        "        x = torch.cat(branch_outputs, dim=1)  # Concatenate outputs from all branches\n",
        "        x = global_mean_pool(x, batch)\n",
        "        x = self.linear(x)\n",
        "        x = F.softmax(x, dim=1)\n",
        "\n",
        "        return x\n",
        "\n"
      ],
      "metadata": {
        "id": "K9GxlHj3HCgf"
      },
      "execution_count": 27,
      "outputs": []
    },
    {
      "cell_type": "code",
      "source": [
        "import torch\n",
        "import torch.nn.functional as F\n",
        "from torch_geometric.data import DataLoader\n",
        "\n",
        "def train_multinet(model, loss_fn, optimizer, device, train_loader):\n",
        "    \"\"\"\n",
        "    Trains the MultinetGraphNetwork model for one epoch.\n",
        "\n",
        "    Parameters:\n",
        "        model (MultinetGraphNetwork): The MultinetGraphNetwork model to be trained.\n",
        "        loss_fn (torch.nn.Module): The loss function used for training.\n",
        "        optimizer (torch.optim.Optimizer): The optimizer used for updating model parameters.\n",
        "        device (torch.device): The device (CPU or GPU) to perform training.\n",
        "        train_loader (torch.utils.data.DataLoader): DataLoader for training data.\n",
        "\n",
        "    Returns:\n",
        "        float: Total loss for the epoch.\n",
        "    \"\"\"\n",
        "    model.train()\n",
        "    total_loss = 0.0\n",
        "\n",
        "    for data in train_loader:\n",
        "        data = data.to(device)\n",
        "        optimizer.zero_grad()\n",
        "        outputs = model(data)  # Update here\n",
        "        loss = loss_fn(outputs, data.y)\n",
        "        loss.backward()\n",
        "        optimizer.step()\n",
        "        total_loss += loss.item() * data.num_graphs  # Accumulate the total loss\n",
        "\n",
        "    return total_loss / len(train_loader.dataset)\n",
        "\n",
        "def eval_multinet(model, device, loader):\n",
        "    \"\"\" Calculate accuracy for all examples in a DataLoader.\n",
        "\n",
        "    Parameters:\n",
        "    model (nn.Module): Model to be evaluated.\n",
        "    device (torch.device): Device used for evaluation.\n",
        "    loader (torch.utils.data.DataLoader): DataLoader containing examples to evaluate.\n",
        "\n",
        "    Returns:\n",
        "    float: Accuracy of the model on the given data.\n",
        "    \"\"\"\n",
        "    model.eval()\n",
        "    correct = 0\n",
        "    total = 0\n",
        "\n",
        "    with torch.no_grad():\n",
        "        for data in loader:\n",
        "            data = data.to(device)\n",
        "            outputs = model(data)\n",
        "            _, predicted = torch.max(outputs, 1)\n",
        "            correct += (predicted == data.y).sum().item()\n",
        "            total += data.y.size(0)\n",
        "\n",
        "    accuracy = correct / total\n",
        "    return accuracy\n",
        "\n",
        "\n",
        "device = torch.device(\"cuda\" if torch.cuda.is_available() else \"cpu\")\n",
        "model = MultinetGraphNetwork(hidden_channels=32, num_networks=3).to(device)\n",
        "\n",
        "\n",
        "optimizer = torch.optim.Adam(model.parameters(), lr=0.01)\n",
        "train_loader = DataLoader(train_dataset, batch_size=32, shuffle=True)\n",
        "test_loader = DataLoader(test_dataset, batch_size=32, shuffle=False)\n",
        "loss_fn = torch.nn.CrossEntropyLoss()\n",
        "losses = []\n",
        "for epoch in range(30):\n",
        "    train_loss = train_multinet(model, loss_fn, optimizer, device, train_loader)\n",
        "\n",
        "    train_acc = eval_multinet(model, device, train_loader)\n",
        "    test_acc = eval_multinet(model, device, test_loader)\n",
        "\n",
        "    losses.append(train_loss)\n",
        "\n",
        "    print(f'Epoch: {epoch + 1:02d}, '\n",
        "          f'Loss: {train_loss:.4f}, '\n",
        "          f'Train Accuracy: {train_acc * 100:.2f}%, '\n",
        "          f'Test Accuracy: {test_acc * 100:.2f}%')\n",
        "\n",
        "# Plotting losses\n",
        "plt.plot(losses)\n",
        "plt.xlabel('Epoch')\n",
        "plt.ylabel('Training Loss')\n",
        "plt.title('Training Loss Curve')\n",
        "plt.show()\n"
      ],
      "metadata": {
        "id": "a22UtZDnGtL2",
        "colab": {
          "base_uri": "https://localhost:8080/",
          "height": 1000
        },
        "outputId": "a547b8a3-e88c-4dd2-b3b9-3dce4fe51bb6"
      },
      "execution_count": 28,
      "outputs": [
        {
          "output_type": "stream",
          "name": "stderr",
          "text": [
            "/usr/local/lib/python3.10/dist-packages/torch_geometric/deprecation.py:26: UserWarning: 'data.DataLoader' is deprecated, use 'loader.DataLoader' instead\n",
            "  warnings.warn(out)\n",
            "/usr/local/lib/python3.10/dist-packages/torch_geometric/warnings.py:11: UserWarning: The usage of `scatter(reduce='max')` can be accelerated via the 'torch-scatter' package, but it was not found\n",
            "  warnings.warn(message)\n"
          ]
        },
        {
          "output_type": "stream",
          "name": "stdout",
          "text": [
            "Epoch: 01, Loss: 0.5964, Train Accuracy: 80.65%, Test Accuracy: 70.97%\n",
            "Epoch: 02, Loss: 0.4809, Train Accuracy: 80.65%, Test Accuracy: 70.97%\n",
            "Epoch: 03, Loss: 0.4623, Train Accuracy: 80.65%, Test Accuracy: 70.97%\n",
            "Epoch: 04, Loss: 0.4180, Train Accuracy: 85.48%, Test Accuracy: 74.19%\n",
            "Epoch: 05, Loss: 0.3997, Train Accuracy: 93.55%, Test Accuracy: 90.32%\n",
            "Epoch: 06, Loss: 0.3743, Train Accuracy: 97.58%, Test Accuracy: 93.55%\n",
            "Epoch: 07, Loss: 0.3632, Train Accuracy: 97.58%, Test Accuracy: 90.32%\n",
            "Epoch: 08, Loss: 0.3522, Train Accuracy: 97.58%, Test Accuracy: 93.55%\n",
            "Epoch: 09, Loss: 0.3490, Train Accuracy: 97.58%, Test Accuracy: 93.55%\n",
            "Epoch: 10, Loss: 0.3442, Train Accuracy: 97.58%, Test Accuracy: 93.55%\n",
            "Epoch: 11, Loss: 0.3431, Train Accuracy: 97.58%, Test Accuracy: 93.55%\n",
            "Epoch: 12, Loss: 0.3381, Train Accuracy: 97.58%, Test Accuracy: 90.32%\n",
            "Epoch: 13, Loss: 0.3427, Train Accuracy: 97.58%, Test Accuracy: 90.32%\n",
            "Epoch: 14, Loss: 0.3360, Train Accuracy: 98.39%, Test Accuracy: 93.55%\n",
            "Epoch: 15, Loss: 0.3325, Train Accuracy: 98.39%, Test Accuracy: 93.55%\n",
            "Epoch: 16, Loss: 0.3316, Train Accuracy: 98.39%, Test Accuracy: 90.32%\n",
            "Epoch: 17, Loss: 0.3318, Train Accuracy: 98.39%, Test Accuracy: 93.55%\n",
            "Epoch: 18, Loss: 0.3308, Train Accuracy: 98.39%, Test Accuracy: 93.55%\n",
            "Epoch: 19, Loss: 0.3305, Train Accuracy: 98.39%, Test Accuracy: 96.77%\n",
            "Epoch: 20, Loss: 0.3308, Train Accuracy: 98.39%, Test Accuracy: 96.77%\n",
            "Epoch: 21, Loss: 0.3305, Train Accuracy: 98.39%, Test Accuracy: 96.77%\n",
            "Epoch: 22, Loss: 0.3302, Train Accuracy: 98.39%, Test Accuracy: 96.77%\n",
            "Epoch: 23, Loss: 0.3300, Train Accuracy: 98.39%, Test Accuracy: 96.77%\n",
            "Epoch: 24, Loss: 0.3299, Train Accuracy: 98.39%, Test Accuracy: 96.77%\n",
            "Epoch: 25, Loss: 0.3303, Train Accuracy: 98.39%, Test Accuracy: 96.77%\n",
            "Epoch: 26, Loss: 0.3303, Train Accuracy: 98.39%, Test Accuracy: 96.77%\n",
            "Epoch: 27, Loss: 0.3298, Train Accuracy: 98.39%, Test Accuracy: 96.77%\n",
            "Epoch: 28, Loss: 0.3301, Train Accuracy: 98.39%, Test Accuracy: 96.77%\n",
            "Epoch: 29, Loss: 0.3297, Train Accuracy: 98.39%, Test Accuracy: 96.77%\n",
            "Epoch: 30, Loss: 0.3298, Train Accuracy: 98.39%, Test Accuracy: 96.77%\n"
          ]
        },
        {
          "output_type": "display_data",
          "data": {
            "text/plain": [
              "<Figure size 640x480 with 1 Axes>"
            ],
            "image/png": "[encoded data removed]"
          },
          "metadata": {}
        }
      ]
    },
    {
      "cell_type": "code",
      "source": [
        "from sklearn.metrics import confusion_matrix, classification_report\n",
        "\n",
        "# Evaluate the model on the test dataset to get predictions and true labels\n",
        "def evaluate_model(model, device, loader):\n",
        "    model.eval()\n",
        "    predictions = []\n",
        "    true_labels = []\n",
        "\n",
        "    for batch in loader:\n",
        "        batch = batch.to(device)\n",
        "\n",
        "        with torch.no_grad():\n",
        "            pred = torch.argmax(model(batch), 1)\n",
        "\n",
        "        predictions.extend(pred.cpu().numpy())\n",
        "        true_labels.extend(batch.y.cpu().numpy())\n",
        "\n",
        "    return predictions, true_labels\n",
        "\n",
        "# Get predictions and true labels\n",
        "test_predictions, test_labels = evaluate_model(model, device, test_loader)\n",
        "\n",
        "# Calculate confusion matrix\n",
        "conf_matrix1 = confusion_matrix(test_labels, test_predictions)\n",
        "\n",
        "# Generate classification report\n",
        "class_report = classification_report(test_labels, test_predictions)\n",
        "\n",
        "# Print confusion matrix and classification report\n",
        "print(\"Confusion Matrix:\")\n",
        "print(conf_matrix1)\n",
        "\n",
        "print(\"\\nClassification Report:\")\n",
        "print(class_report)\n"
      ],
      "metadata": {
        "id": "Sqhxq8tb7keK",
        "colab": {
          "base_uri": "https://localhost:8080/"
        },
        "outputId": "ccaf1a28-17f5-4d38-ab7c-cc1bd3e6a48f"
      },
      "execution_count": 34,
      "outputs": [
        {
          "output_type": "stream",
          "name": "stdout",
          "text": [
            "Confusion Matrix:\n",
            "[[22  0]\n",
            " [ 1  8]]\n",
            "\n",
            "Classification Report:\n",
            "              precision    recall  f1-score   support\n",
            "\n",
            "           0       0.96      1.00      0.98        22\n",
            "           1       1.00      0.89      0.94         9\n",
            "\n",
            "    accuracy                           0.97        31\n",
            "   macro avg       0.98      0.94      0.96        31\n",
            "weighted avg       0.97      0.97      0.97        31\n",
            "\n"
          ]
        }
      ]
    },
    {
      "cell_type": "code",
      "source": [
        "classes = ['Class 0', 'Class 1']\n",
        "\n",
        "# Plot confusion matrix\n",
        "plt.figure(figsize=(8, 6))\n",
        "sns.set(font_scale=1.2)  # Set font scale for better readability\n",
        "sns.heatmap(conf_matrix1, annot=True, fmt='d', cmap='Blues', xticklabels=classes, yticklabels=classes)\n",
        "plt.xlabel('Predicted')\n",
        "plt.ylabel('True')\n",
        "plt.title('Confusion Matrix')\n",
        "plt.show()"
      ],
      "metadata": {
        "colab": {
          "base_uri": "https://localhost:8080/",
          "height": 578
        },
        "id": "3mgjxtgQqPw5",
        "outputId": "761d43c1-0fe4-4a33-97b5-ddfecb222055"
      },
      "execution_count": 35,
      "outputs": [
        {
          "output_type": "display_data",
          "data": {
            "text/plain": [
              "<Figure size 800x600 with 2 Axes>"
            ],
            "image/png": "[encoded data removed]"
          },
          "metadata": {}
        }
      ]
    },
    {
      "cell_type": "code",
      "source": [],
      "metadata": {
        "id": "Nq7XEtDu03qx"
      },
      "execution_count": null,
      "outputs": []
    }
  ],
  "metadata": {
    "accelerator": "GPU",
    "colab": {
      "machine_shape": "hm",
      "provenance": []
    },
    "kernelspec": {
      "display_name": "Python 3",
      "name": "python3"
    },
    "language_info": {
      "name": "python"
    }
  },
  "nbformat": 4,
  "nbformat_minor": 0
}